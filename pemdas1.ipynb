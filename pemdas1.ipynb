{
 "cells": [
  {
   "cell_type": "code",
   "execution_count": 2,
   "metadata": {},
   "outputs": [
    {
     "name": "stdout",
     "output_type": "stream",
     "text": [
      "Hello World\n"
     ]
    }
   ],
   "source": [
    "print(\"Hello World\")"
   ]
  },
  {
   "cell_type": "code",
   "execution_count": 6,
   "metadata": {},
   "outputs": [
    {
     "name": "stdout",
     "output_type": "stream",
     "text": [
      "nama : ikrima nurul hikmah usia : 20\n"
     ]
    }
   ],
   "source": [
    "# Menggunakan Koma\n",
    "nama = \"ikrima nurul hikmah\"\n",
    "usia = 20\n",
    "\n",
    "print(\"nama :\", nama, \"usia :\", usia)"
   ]
  },
  {
   "cell_type": "code",
   "execution_count": 11,
   "metadata": {},
   "outputs": [
    {
     "name": "stdout",
     "output_type": "stream",
     "text": [
      "Nama: ikrima nurul hikmah, Usia : 20\n"
     ]
    }
   ],
   "source": [
    "# String Formatting\n",
    "nama = \"ikrima nurul hikmah\"\n",
    "usia = 20\n",
    "\n",
    "print(\"Nama: {}, Usia : {}\".format(nama,usia))"
   ]
  },
  {
   "cell_type": "code",
   "execution_count": 12,
   "metadata": {},
   "outputs": [
    {
     "name": "stdout",
     "output_type": "stream",
     "text": [
      "Nama: ikrima nurul hikmah, Usia: 20\n"
     ]
    }
   ],
   "source": [
    "# F-String\n",
    "nama = \"ikrima nurul hikmah\"\n",
    "usia = 20\n",
    "\n",
    "print(f\"Nama: {nama}, Usia: {usia}\")"
   ]
  },
  {
   "cell_type": "code",
   "execution_count": 13,
   "metadata": {},
   "outputs": [
    {
     "name": "stdout",
     "output_type": "stream",
     "text": [
      "Nama : ikrima nurul hikmah, Usia : 20\n"
     ]
    }
   ],
   "source": [
    "# Metode printf\n",
    "nama = \"ikrima nurul hikmah\"\n",
    "usia = 20\n",
    "\n",
    "print(\"Nama : %s, Usia : %d\" % (nama,usia))"
   ]
  },
  {
   "cell_type": "code",
   "execution_count": 15,
   "metadata": {},
   "outputs": [
    {
     "name": "stdout",
     "output_type": "stream",
     "text": [
      "Nama Saya:ikrima nurul hikmah\n",
      " Nilai Saya: 100\n"
     ]
    }
   ],
   "source": [
    "nama = \"ikrima nurul hikmah\"\n",
    "nilai = 100\n",
    "\n",
    "print(\"Nama Saya:\"+nama+\"\\n Nilai Saya:\", nilai)"
   ]
  },
  {
   "cell_type": "code",
   "execution_count": 17,
   "metadata": {},
   "outputs": [
    {
     "name": "stdout",
     "output_type": "stream",
     "text": [
      "Hallo, 20!\n"
     ]
    },
    {
     "ename": "KeyboardInterrupt",
     "evalue": "Interrupted by user",
     "output_type": "error",
     "traceback": [
      "\u001b[1;31m---------------------------------------------------------------------------\u001b[0m",
      "\u001b[1;31mKeyboardInterrupt\u001b[0m                         Traceback (most recent call last)",
      "Cell \u001b[1;32mIn[17], line 6\u001b[0m\n\u001b[0;32m      3\u001b[0m \u001b[38;5;28mprint\u001b[39m(\u001b[38;5;124m\"\u001b[39m\u001b[38;5;124mHallo, \u001b[39m\u001b[38;5;124m\"\u001b[39m\u001b[38;5;241m+\u001b[39m nama \u001b[38;5;241m+\u001b[39m \u001b[38;5;124m\"\u001b[39m\u001b[38;5;124m!\u001b[39m\u001b[38;5;124m\"\u001b[39m)\n\u001b[0;32m      5\u001b[0m \u001b[38;5;66;03m# Mendapatkan input angka dan mengonversinya menjadi \u001b[39;00m\n\u001b[1;32m----> 6\u001b[0m usia \u001b[38;5;241m=\u001b[39m \u001b[38;5;28mint\u001b[39m(\u001b[38;5;28;43minput\u001b[39;49m\u001b[43m(\u001b[49m\u001b[38;5;124;43m\"\u001b[39;49m\u001b[38;5;124;43mMasukkan usia Anda:\u001b[39;49m\u001b[38;5;124;43m\"\u001b[39;49m\u001b[43m)\u001b[49m)\n\u001b[0;32m      7\u001b[0m \u001b[38;5;28mprint\u001b[39m(\u001b[38;5;124m\"\u001b[39m\u001b[38;5;124mUsia Anda adalah\u001b[39m\u001b[38;5;124m\"\u001b[39m, usia, \u001b[38;5;124m\"\u001b[39m\u001b[38;5;124mtahun\u001b[39m\u001b[38;5;124m\"\u001b[39m)\n",
      "File \u001b[1;32m~\\AppData\\Roaming\\Python\\Python312\\site-packages\\ipykernel\\kernelbase.py:1282\u001b[0m, in \u001b[0;36mKernel.raw_input\u001b[1;34m(self, prompt)\u001b[0m\n\u001b[0;32m   1280\u001b[0m     msg \u001b[38;5;241m=\u001b[39m \u001b[38;5;124m\"\u001b[39m\u001b[38;5;124mraw_input was called, but this frontend does not support input requests.\u001b[39m\u001b[38;5;124m\"\u001b[39m\n\u001b[0;32m   1281\u001b[0m     \u001b[38;5;28;01mraise\u001b[39;00m StdinNotImplementedError(msg)\n\u001b[1;32m-> 1282\u001b[0m \u001b[38;5;28;01mreturn\u001b[39;00m \u001b[38;5;28;43mself\u001b[39;49m\u001b[38;5;241;43m.\u001b[39;49m\u001b[43m_input_request\u001b[49m\u001b[43m(\u001b[49m\n\u001b[0;32m   1283\u001b[0m \u001b[43m    \u001b[49m\u001b[38;5;28;43mstr\u001b[39;49m\u001b[43m(\u001b[49m\u001b[43mprompt\u001b[49m\u001b[43m)\u001b[49m\u001b[43m,\u001b[49m\n\u001b[0;32m   1284\u001b[0m \u001b[43m    \u001b[49m\u001b[38;5;28;43mself\u001b[39;49m\u001b[38;5;241;43m.\u001b[39;49m\u001b[43m_parent_ident\u001b[49m\u001b[43m[\u001b[49m\u001b[38;5;124;43m\"\u001b[39;49m\u001b[38;5;124;43mshell\u001b[39;49m\u001b[38;5;124;43m\"\u001b[39;49m\u001b[43m]\u001b[49m\u001b[43m,\u001b[49m\n\u001b[0;32m   1285\u001b[0m \u001b[43m    \u001b[49m\u001b[38;5;28;43mself\u001b[39;49m\u001b[38;5;241;43m.\u001b[39;49m\u001b[43mget_parent\u001b[49m\u001b[43m(\u001b[49m\u001b[38;5;124;43m\"\u001b[39;49m\u001b[38;5;124;43mshell\u001b[39;49m\u001b[38;5;124;43m\"\u001b[39;49m\u001b[43m)\u001b[49m\u001b[43m,\u001b[49m\n\u001b[0;32m   1286\u001b[0m \u001b[43m    \u001b[49m\u001b[43mpassword\u001b[49m\u001b[38;5;241;43m=\u001b[39;49m\u001b[38;5;28;43;01mFalse\u001b[39;49;00m\u001b[43m,\u001b[49m\n\u001b[0;32m   1287\u001b[0m \u001b[43m\u001b[49m\u001b[43m)\u001b[49m\n",
      "File \u001b[1;32m~\\AppData\\Roaming\\Python\\Python312\\site-packages\\ipykernel\\kernelbase.py:1325\u001b[0m, in \u001b[0;36mKernel._input_request\u001b[1;34m(self, prompt, ident, parent, password)\u001b[0m\n\u001b[0;32m   1322\u001b[0m \u001b[38;5;28;01mexcept\u001b[39;00m \u001b[38;5;167;01mKeyboardInterrupt\u001b[39;00m:\n\u001b[0;32m   1323\u001b[0m     \u001b[38;5;66;03m# re-raise KeyboardInterrupt, to truncate traceback\u001b[39;00m\n\u001b[0;32m   1324\u001b[0m     msg \u001b[38;5;241m=\u001b[39m \u001b[38;5;124m\"\u001b[39m\u001b[38;5;124mInterrupted by user\u001b[39m\u001b[38;5;124m\"\u001b[39m\n\u001b[1;32m-> 1325\u001b[0m     \u001b[38;5;28;01mraise\u001b[39;00m \u001b[38;5;167;01mKeyboardInterrupt\u001b[39;00m(msg) \u001b[38;5;28;01mfrom\u001b[39;00m \u001b[38;5;28;01mNone\u001b[39;00m\n\u001b[0;32m   1326\u001b[0m \u001b[38;5;28;01mexcept\u001b[39;00m \u001b[38;5;167;01mException\u001b[39;00m:\n\u001b[0;32m   1327\u001b[0m     \u001b[38;5;28mself\u001b[39m\u001b[38;5;241m.\u001b[39mlog\u001b[38;5;241m.\u001b[39mwarning(\u001b[38;5;124m\"\u001b[39m\u001b[38;5;124mInvalid Message:\u001b[39m\u001b[38;5;124m\"\u001b[39m, exc_info\u001b[38;5;241m=\u001b[39m\u001b[38;5;28;01mTrue\u001b[39;00m)\n",
      "\u001b[1;31mKeyboardInterrupt\u001b[0m: Interrupted by user"
     ]
    }
   ],
   "source": [
    "# Masukkan input dari pengguna\n",
    "nama = input(\"Masukkan nama Anda:\")\n",
    "print(\"Hallo, \"+ nama + \"!\")\n",
    "\n",
    "# Mendapatkan input angka dan mengonversinya menjadi \n",
    "usia = int(input(\"Masukkan usia Anda:\"))\n",
    "print(\"Usia Anda adalah\", usia, \"tahun\")"
   ]
  },
  {
   "cell_type": "code",
   "execution_count": 3,
   "metadata": {},
   "outputs": [
    {
     "name": "stdout",
     "output_type": "stream",
     "text": [
      "Nama: ikrima\n",
      " Kelas: ee\n",
      "  Matkul: pemdas\n",
      " Usia: 20\n",
      " Berat Badan: 55.0\n"
     ]
    }
   ],
   "source": [
    "# nama = input(\"Masukkan nama Anda:\")\n",
    "# kelas = input(\"Masukan Keterangan Kelas Anda\")\n",
    "# matkul = input(\"Masukkan nama Mata Kuliah\")\n",
    "# usia = int(input(\"Masukkan Usia Anda :\"))\n",
    "# bb = float(input(\"Masukkan Berat Badan Anda\"))\n",
    "\n",
    "# print(f\"Nama: {nama}\\n Kelas: {kelas}\\n  Matkul: {matkul}\\n Usia: {usia}\\n Berat Badan: {bb}\")"
   ]
  },
  {
   "cell_type": "code",
   "execution_count": 25,
   "metadata": {},
   "outputs": [
    {
     "data": {
      "text/plain": [
       "15"
      ]
     },
     "execution_count": 25,
     "metadata": {},
     "output_type": "execute_result"
    }
   ],
   "source": [
    "a = 10\n",
    "b = 5\n",
    "hasil = a + b # hasil = 15\n",
    "\n",
    "hasil"
   ]
  },
  {
   "cell_type": "code",
   "execution_count": 26,
   "metadata": {},
   "outputs": [
    {
     "data": {
      "text/plain": [
       "50"
      ]
     },
     "execution_count": 26,
     "metadata": {},
     "output_type": "execute_result"
    }
   ],
   "source": [
    "a = 10\n",
    "b = 5\n",
    "hasil = a * b #hasil = 50\n",
    "\n",
    "hasil"
   ]
  },
  {
   "cell_type": "code",
   "execution_count": 27,
   "metadata": {},
   "outputs": [
    {
     "data": {
      "text/plain": [
       "2.0"
      ]
     },
     "execution_count": 27,
     "metadata": {},
     "output_type": "execute_result"
    }
   ],
   "source": [
    "a = 10\n",
    "b = 5\n",
    "hasil = a / b # hasil = 2.0\n",
    "\n",
    "hasil"
   ]
  },
  {
   "cell_type": "code",
   "execution_count": 30,
   "metadata": {},
   "outputs": [
    {
     "data": {
      "text/plain": [
       "5"
      ]
     },
     "execution_count": 30,
     "metadata": {},
     "output_type": "execute_result"
    }
   ],
   "source": [
    "a = 10\n",
    "b = 5\n",
    "hasil = a - b # hasil = 5\n",
    "\n",
    "hasil"
   ]
  },
  {
   "cell_type": "code",
   "execution_count": 40,
   "metadata": {},
   "outputs": [
    {
     "data": {
      "text/plain": [
       "3"
      ]
     },
     "execution_count": 40,
     "metadata": {},
     "output_type": "execute_result"
    }
   ],
   "source": [
    "a = 10\n",
    "b = 3\n",
    "hasil = a // b # hasil = 3\n",
    "\n",
    "hasil"
   ]
  },
  {
   "cell_type": "code",
   "execution_count": 39,
   "metadata": {},
   "outputs": [
    {
     "data": {
      "text/plain": [
       "1"
      ]
     },
     "execution_count": 39,
     "metadata": {},
     "output_type": "execute_result"
    }
   ],
   "source": [
    "a = 10\n",
    "b = 3\n",
    "hasil = a % b # hasil = 1\n",
    "\n",
    "hasil"
   ]
  },
  {
   "cell_type": "code",
   "execution_count": 1,
   "metadata": {},
   "outputs": [
    {
     "data": {
      "text/plain": [
       "8"
      ]
     },
     "execution_count": 1,
     "metadata": {},
     "output_type": "execute_result"
    }
   ],
   "source": [
    "a = 2\n",
    "b = 3\n",
    "hasil = a ** b #hasil = 8 (2^3)\n",
    "\n",
    "hasil"
   ]
  },
  {
   "cell_type": "code",
   "execution_count": 2,
   "metadata": {},
   "outputs": [
    {
     "name": "stdout",
     "output_type": "stream",
     "text": [
      "Nama: ikrima nurul hikmah\n",
      " Kelas: ee\n",
      "  Matkul: pemdas\n",
      " Usia: 20\n",
      " Berat Badan: 55\n"
     ]
    }
   ],
   "source": [
    "nama = input(\"Masukkan nama Anda:\")\n",
    "kelas = input(\"Masukan Keterangan Kelas Anda\")\n",
    "matkul = input(\"Masukkan nama Mata Kuliah\")\n",
    "usia = int(input(\"Masukkan Usia Anda :\"))\n",
    "bb = int(input(\"Masukkan Berat Badan Anda\"))\n",
    "\n",
    "print(f\"Nama: {nama}\\n Kelas: {kelas}\\n  Matkul: {matkul}\\n Usia: {usia}\\n Berat Badan: {bb}\")"
   ]
  },
  {
   "cell_type": "code",
   "execution_count": 10,
   "metadata": {},
   "outputs": [
    {
     "name": "stdout",
     "output_type": "stream",
     "text": [
      "Hasil Pertambahan: 12.0\n",
      "Hasil Pengurangan: 8.0\n",
      "Hasil Pembagian: 5.0\n",
      "Hasil Perkalian: 20.0\n",
      "Hasil Pangkat: 100.0\n",
      "Hasil Pembagian Yang Dibulatkan: 5.0\n"
     ]
    }
   ],
   "source": [
    "angka1 = float(input(\"Masukkan Angka ke 1\"))\n",
    "angka2 = float(input(\"Masukkan Angka ke 2\"))\n",
    "hasil1 = angka1 + angka2 #pertamahan\n",
    "hasil2 = angka1 - angka2  #pengurangan\n",
    "hasil3 = angka1 / angka2 #pembagian\n",
    "hasil4 = angka1 * angka2 #perkalian\n",
    "hasil5 = angka1 ** angka2 #pangkat\n",
    "hasil6 = angka1 // angka2 #pembagian pembulatan\n",
    "\n",
    "print(f\"Hasil Pertambahan: {hasil1}\")\n",
    "print(f\"Hasil Pengurangan: {hasil2}\")\n",
    "print(f\"Hasil Pembagian: {hasil3}\")\n",
    "print(f\"Hasil Perkalian: {hasil4}\")\n",
    "print(f\"Hasil Pangkat: {hasil5}\")\n",
    "print(f\"Hasil Pembagian Yang Dibulatkan: {hasil6}\")\n"
   ]
  },
  {
   "cell_type": "code",
   "execution_count": 2,
   "metadata": {},
   "outputs": [
    {
     "name": "stdout",
     "output_type": "stream",
     "text": [
      "Nama Lengkap: krimahf\n",
      "Tempat Tanggal Lahir: 33\n",
      "Agama : 3413\n",
      "Nomor Telepon: 2342\n",
      "Email: \n",
      "Alamat: 2e4\n",
      "Pendidikan: \n",
      "Program studi: 3\n"
     ]
    }
   ],
   "source": [
    "nama = input(\"Nama Lengkap:\")\n",
    "ttl = input(\"Tempat Tanggal Lahir :\")\n",
    "agama= input(\"Agama : \")\n",
    "telepon = input(\"Nomor Telepon :\")\n",
    "email = input(\" Email : \")\n",
    "alamat = input(\"Alamat :\")\n",
    "pendidikan = input(\"Pendidikan :\")\n",
    "jurusan = input(\"Program studi : \")\n",
    "\n",
    "\n",
    "print(f\"Nama Lengkap: {nama}\")\n",
    "print(f\"Tempat Tanggal Lahir: {ttl}\")\n",
    "print(f\"Agama : {agama}\")\n",
    "print(f\"Nomor Telepon: {telepon}\")\n",
    "print(f\"Email: {email}\")\n",
    "print(f\"Alamat: {alamat}\")\n",
    "print(f\"Pendidikan: {pendidikan}\")\n",
    "print(f\"Program studi: {jurusan}\")\n"
   ]
  },
  {
   "cell_type": "code",
   "execution_count": 3,
   "metadata": {},
   "outputs": [
    {
     "name": "stdout",
     "output_type": "stream",
     "text": [
      "True\n"
     ]
    }
   ],
   "source": [
    "# > (lebih besar dari) mengembalikan true jika oprerand\n",
    "a = 5\n",
    "b = 5\n",
    "print(a >= b)\n"
   ]
  },
  {
   "cell_type": "code",
   "execution_count": 4,
   "metadata": {},
   "outputs": [
    {
     "name": "stdout",
     "output_type": "stream",
     "text": [
      "False\n"
     ]
    }
   ],
   "source": [
    "# > (lebih besar dari) mengembalikan true jika oprerand\n",
    "a = 5\n",
    "b = 5\n",
    "print(a > b)"
   ]
  },
  {
   "cell_type": "code",
   "execution_count": 5,
   "metadata": {},
   "outputs": [
    {
     "name": "stdout",
     "output_type": "stream",
     "text": [
      "True\n"
     ]
    }
   ],
   "source": [
    "# == (sama dengan)\n",
    "a = 10\n",
    "b = 10.0\n",
    "print(a == b)"
   ]
  },
  {
   "cell_type": "code",
   "execution_count": 8,
   "metadata": {},
   "outputs": [
    {
     "name": "stdout",
     "output_type": "stream",
     "text": [
      "False\n"
     ]
    }
   ],
   "source": [
    "# == (sama dengan)\n",
    "a = 10\n",
    "b = 10.0\n",
    "print(a == b)"
   ]
  },
  {
   "cell_type": "code",
   "execution_count": null,
   "metadata": {},
   "outputs": [],
   "source": [
    "# == (sama dengan)\n",
    "a = \"ikrima\"\n",
    "b = \"Ikrima\"\n",
    "print(a == b)"
   ]
  },
  {
   "cell_type": "code",
   "execution_count": 9,
   "metadata": {},
   "outputs": [
    {
     "name": "stdout",
     "output_type": "stream",
     "text": [
      "True\n"
     ]
    }
   ],
   "source": [
    "# != (tidak sama dengan) mengembalikan true jika kedua operand nya tidak sama\n",
    "a = 5\n",
    "b = 9 \n",
    "print(a != b)"
   ]
  },
  {
   "cell_type": "code",
   "execution_count": 12,
   "metadata": {},
   "outputs": [
    {
     "name": "stdout",
     "output_type": "stream",
     "text": [
      "Dewasa\n"
     ]
    }
   ],
   "source": [
    "usia = 20\n",
    "status = \"Dewasa\" if usia>=18 else \"Anak-Anak\"\n",
    "print(status)"
   ]
  },
  {
   "cell_type": "code",
   "execution_count": 13,
   "metadata": {},
   "outputs": [
    {
     "name": "stdout",
     "output_type": "stream",
     "text": [
      "mainan\n"
     ]
    }
   ],
   "source": [
    "jenis_kelamin = \"perempuan\"\n",
    "status = \"mainan\" if jenis_kelamin == \"laki-laki\" else \"boneka\"\n",
    "print(status)"
   ]
  },
  {
   "cell_type": "code",
   "execution_count": 28,
   "metadata": {},
   "outputs": [
    {
     "name": "stdout",
     "output_type": "stream",
     "text": [
      "memiliki nilai= 95\n",
      " Nilai A\n",
      "Nama Lengkap : Ikrima Nurul Hikmah\n",
      " Dengan Jurusan :Informatika\n"
     ]
    }
   ],
   "source": [
    "nama = input (\" Masukkan Nama Lengkap \")\n",
    "nilai = int(input(\" Masukkan \"))\n",
    "print(\"memiliki nilai=\", nilai)\n",
    "jurusan = input (\" Nama Jurusan\")\n",
    "if   80 <= nilai <= 100:\n",
    "    print(\" Nilai A\")\n",
    "elif  73 <= nilai  <= 79:\n",
    "    print(\" Nilai AB\")\n",
    "elif  67 <= nilai <= 72:\n",
    "    print(\" Nilai B\")\n",
    "elif  55 <= nilai <= 66:\n",
    "    print(\" Nilai BC\")\n",
    "elif  40 <= nilai <= 54:\n",
    "    print(\" Nilai C\")\n",
    "else:\n",
    "    print(\" Nilai F\")\n",
    "\n",
    "print(f\"Nama Lengkap : {nama}\\n Dengan Jurusan :{jurusan}\")\n",
    "\n",
    "\n"
   ]
  },
  {
   "cell_type": "code",
   "execution_count": 10,
   "metadata": {},
   "outputs": [
    {
     "name": "stdout",
     "output_type": "stream",
     "text": [
      "Rekomendasi asupan air: 1.8 Liter per hari\n"
     ]
    }
   ],
   "source": [
    "usia = int(input(\"Silahkan Masukkan Usia Anda\"))\n",
    "jeniskelamin = input(\"Masukkan Jenis Kelamin Anda\")\n",
    "\n",
    "if usia < 2:\n",
    "    print(\"Masih diberi ASI\")\n",
    "elif 3 <= usia <= 18:\n",
    "    if jeniskelamin == \"Laki-laki\":\n",
    "        print(\"Rekomendasi asupan air: 1.6 Liter per hari \")\n",
    "    elif jeniskelamin == \"Perempuan\":\n",
    "        print(\"Rekomendasi asupan air: 1.4 Liter per hari\")\n",
    "    else:\n",
    "        print(\"Tidak Valid\")\n",
    "elif 18 <= usia <= 65:\n",
    "    if jeniskelamin == \"Laki-laki\":\n",
    "        print(\"Rekomendasi asupan air: 2.5 Liter per hari\")\n",
    "    elif jeniskelamin == \"Perempuan\":\n",
    "        print(\"Rekomendasi asupan air: 2.0 Liter per hari\")\n",
    "    else:\n",
    "        print(\"Tidak Valid\")\n",
    "elif usia >= 65:\n",
    "    if jeniskelamin == \"Laki-laki\":\n",
    "        print(\"Rekomendasi asupan air: 2.0 Liter per hari\")\n",
    "    elif jeniskelamin == \"Perempuan\":\n",
    "        print(\"Rekomendasi asupan air: 1.8 Liter per hari\")\n",
    "    else:\n",
    "        print(\"Tidak Valid\")\n"
   ]
  },
  {
   "cell_type": "code",
   "execution_count": 1,
   "metadata": {},
   "outputs": [
    {
     "name": "stdout",
     "output_type": "stream",
     "text": [
      "python\n"
     ]
    }
   ],
   "source": [
    "# Operator Ternary\n",
    "prodi = 12\n",
    "status = 20 < 23 if prodi == \"12\" else 20 > 24\n",
    "# print(status)\n",
    "\n",
    "harga = \"Java Script\" if status == True else \"python\"\n",
    "print(harga)"
   ]
  },
  {
   "cell_type": "code",
   "execution_count": 3,
   "metadata": {},
   "outputs": [
    {
     "name": "stdout",
     "output_type": "stream",
     "text": [
      "Java Script\n"
     ]
    }
   ],
   "source": [
    "# Operator Ternary\n",
    "prodi = \"Informatika\"\n",
    "status = 20 < 23 if prodi == \"informatika\" else 25 > 24\n",
    "#print(status)\n",
    "\n",
    "harga = \"Java Script\" if status == True else \"python\"\n",
    "print(harga)"
   ]
  },
  {
   "cell_type": "code",
   "execution_count": 1,
   "metadata": {},
   "outputs": [
    {
     "name": "stdout",
     "output_type": "stream",
     "text": [
      "Suhu tubuh di atas normal\n",
      "Detak jantung terlalu tinggi, butuh pemeriksaan lebih lanjut.\n"
     ]
    }
   ],
   "source": [
    "#Input suhu tubuh\n",
    "suhu_tubuh = 38\n",
    "\n",
    "#Input detak jantung\n",
    "detak_jantung = 110\n",
    "\n",
    "#Mengecek apakaah sushu tubuh du atas normal\n",
    "if suhu_tubuh > 37.5:\n",
    "    print(\"Suhu tubuh di atas normal\")\n",
    "\n",
    "    # Mengecek apakah sushu tubuh sangat tinggi\n",
    "    if suhu_tubuh > 39:\n",
    "        print(\"Suhu tubuh sangat tinggi, butuh perhatian medis segera\")\n",
    "\n",
    "    # Mengecek detak jantung jika suhu tubuh tidak terlalu tinggi\n",
    "    else: \n",
    "        # Mengecek apakah detak jantung telalu tinggi\n",
    "        if detak_jantung > 100:\n",
    "            print(\"Detak jantung terlalu tinggi, butuh pemeriksaan lebih lanjut.\")\n",
    "        else:\n",
    "            print(\"Detak jantung normal, perbanyak istirahat dan minuim cairan\")\n",
    "else:\n",
    "    print(\"Suhu tubuh normal, tidak ada tindakan khusus yang diperlukan\")"
   ]
  },
  {
   "cell_type": "code",
   "execution_count": 21,
   "metadata": {},
   "outputs": [
    {
     "name": "stdout",
     "output_type": "stream",
     "text": [
      " Nama : ik\n",
      " suhu tubuh  : 38.0\n",
      " detak jantung  :  100\n",
      "Cukup istirahat.\n",
      "Detak jantung normal, perbanyak istirahat dan minum cairan.\n"
     ]
    }
   ],
   "source": [
    "nama = input(\"Masukkan Nama Anda\")\n",
    "print(\" Nama :\",nama)\n",
    "suhu_tubuh = float(input(\"Masukkan suhu tubuh Anda\"))\n",
    "print(\" suhu tubuh  :\",suhu_tubuh)\n",
    "detak_jantung = int(input(\"Masukkan hasil detak jantung anda\"))\n",
    "print(\" detak jantung  : \",detak_jantung)\n",
    "\n",
    "# Mengecek apakah suhu tubuh di atas normal\n",
    "if suhu_tubuh > 37.5:\n",
    "    print(\"Cukup istirahat.\")\n",
    "\n",
    "    #Mengecek apakah suhu tubuh sangat tinggi \n",
    "    if suhu_tubuh >= 39 and suhu_tubuh >= 50:\n",
    "        print(\"Harus segera dirawat.\")\n",
    "\n",
    "        #Mengecek detak jantung jika suhu tubuh tidak terlalu tinggi \n",
    "    else:\n",
    "        #Mengecek apakah detak jantung terlalu tinggi \n",
    "        if detak_jantung > 100:\n",
    "            print(\"Detak jantung terlalu tinggi, butuh pemeriksaan lebih lanjut.\")\n",
    "        else:\n",
    "            print(\"Detak jantung normal, perbanyak istirahat dan minum cairan.\")\n",
    "else:\n",
    "    print(\"Suhu tubuh normal, tidak ada tindakan khusus yang diperlukan.\")\n",
    "    if detak_jantung > 100:\n",
    "        print(\"Detak jantung terlalu tinggi, butuh pemeriksaan lebih lanjut.\")\n",
    "    else:\n",
    "        print(\"Detak jantung normal, perbanyak istirahat dan minum cairan.\")\n"
   ]
  },
  {
   "cell_type": "code",
   "execution_count": 6,
   "metadata": {},
   "outputs": [
    {
     "name": "stdout",
     "output_type": "stream",
     "text": [
      "Nama : ik\n",
      " tekanan darah sistolik: 118.0\n",
      " tekanan darah diastolik: 65.0\n",
      " Denyut Nadi: 57.0\n",
      "Tekanan darah anda normal\n",
      "Disarankan untuk diperiksa apakah ada gejala yang mengiringi bradikardia\n"
     ]
    }
   ],
   "source": [
    "nama = input(\"Silahkan Masukkan Nama Anda:\")\n",
    "print(\"Nama :\",nama)\n",
    "tekanan_darah_sistolik = float(input(\"Masukkan Hasil Tekanan darah sistolik Anda(mmHg):\"))\n",
    "print(\" tekanan darah sistolik:\",tekanan_darah_sistolik)\n",
    "tekanan_darah_diastolik = float(input(\" Masukkan Hasil Tekanan darah diastolik Anda(mmHg):\"))\n",
    "print(\" tekanan darah diastolik:\",tekanan_darah_diastolik)\n",
    "denyut_nadi = float(input(\"Masukkan Hasil Cek denyut nadi Anda(bpm):\"))\n",
    "print(\" Denyut Nadi:\",denyut_nadi)\n",
    "\n",
    "# Mengecek tekanan darah sistolik dan diastolik\n",
    "if tekanan_darah_sistolik >180 or tekanan_darah_diastolik >120:\n",
    "    print(\"Anda sedang mengalami Krisis Hipertensi segera mencari bantuan medis\")\n",
    "elif tekanan_darah_sistolik >140 or tekanan_darah_diastolik >90:\n",
    "    print(\"Disarankan untuk konsultasi dengan dokter mengenai hipertensi\")\n",
    "elif 120<=tekanan_darah_sistolik<=139 or 80<=tekanan_darah_diastolik<=89:\n",
    "    print(\"Anda berada di dalam kondisi prahipertensi\")\n",
    "elif tekanan_darah_sistolik <120 and tekanan_darah_diastolik <80:\n",
    "    print(\"Tekanan darah anda normal\")\n",
    "\n",
    "#mengecek denyut nadi\n",
    "if denyut_nadi >100:\n",
    "    print(\"Anda disarankan untuk memeriksa kondisi kesehatan jantung\")\n",
    "elif denyut_nadi <60:\n",
    "    print(\"Disarankan untuk diperiksa apakah ada gejala yang mengiringi bradikardia\")\n",
    "elif 60<=denyut_nadi<=100:\n",
    "    print(\"Denyut nadi Anda normal\")"
   ]
  },
  {
   "cell_type": "code",
   "execution_count": 1,
   "metadata": {},
   "outputs": [
    {
     "name": "stdout",
     "output_type": "stream",
     "text": [
      "Nama : ikrima\n",
      " tekanan darah sistolik: 110.0\n",
      " tekanan darah diastolik: 120.0\n",
      " Denyut Nadi: 80.0\n",
      "Disarankan untuk konsultasi dengan dokter mengenai hipertensi\n",
      "Denyut nadi Anda normal\n",
      "Nama : ikrimaa\n",
      " tekanan darah sistolik: 80.0\n",
      " tekanan darah diastolik: 120.0\n",
      " Denyut Nadi: 90.0\n",
      "Disarankan untuk konsultasi dengan dokter mengenai hipertensi\n",
      "Denyut nadi Anda normal\n",
      "Nama : ikrimaaa\n",
      " tekanan darah sistolik: 125.0\n",
      " tekanan darah diastolik: 130.0\n",
      " Denyut Nadi: 100.0\n",
      "Anda sedang mengalami Krisis Hipertensi segera mencari bantuan medis\n",
      "Denyut nadi Anda normal\n"
     ]
    }
   ],
   "source": [
    "#match-case untuk Tugas 4\n",
    "\n",
    "angka = input (\"Masukkan angka yang akan dipilih\")\n",
    "\n",
    "#Menggunakan match-case untuk mencocokan angka\n",
    "match angka:\n",
    "    case \"1\" :\n",
    "        print(\" Anda kurang beruntung\")\n",
    "    case \"2\" :\n",
    "        \n",
    "        i = 0\n",
    "        while i<3: \n",
    "            nama = input(\"Silahkan Masukkan Nama Anda:\")\n",
    "            print(\"Nama :\",nama)\n",
    "            tekanan_darah_sistolik = float(input(\"Masukkan Hasil Tekanan darah sistolik Anda(mmHg):\"))\n",
    "            print(\" tekanan darah sistolik:\",tekanan_darah_sistolik)\n",
    "            tekanan_darah_diastolik = float(input(\" Masukkan Hasil Tekanan darah diastolik Anda(mmHg):\"))\n",
    "            print(\" tekanan darah diastolik:\",tekanan_darah_diastolik)\n",
    "            denyut_nadi = float(input(\"Masukkan Hasil Cek denyut nadi Anda(bpm):\"))\n",
    "            print(\" Denyut Nadi:\",denyut_nadi)\n",
    "\n",
    "            # Mengecek tekanan darah sistolik dan diastolik\n",
    "            if tekanan_darah_sistolik >180 or tekanan_darah_diastolik >120:\n",
    "                print(\"Anda sedang mengalami Krisis Hipertensi segera mencari bantuan medis\")\n",
    "            elif tekanan_darah_sistolik >140 or tekanan_darah_diastolik >90:\n",
    "                print(\"Disarankan untuk konsultasi dengan dokter mengenai hipertensi\")\n",
    "            elif 120<=tekanan_darah_sistolik<=139 or 80<=tekanan_darah_diastolik<=89:\n",
    "                print(\"Anda berada di dalam kondisi prahipertensi\")\n",
    "            elif tekanan_darah_sistolik <120 and tekanan_darah_diastolik <80:\n",
    "                print(\"Tekanan darah anda normal\")\n",
    "\n",
    "            #mengecek denyut nadi\n",
    "            if denyut_nadi >100:\n",
    "                print(\"Anda disarankan untuk memeriksa kondisi kesehatan jantung\")\n",
    "            elif denyut_nadi <60:\n",
    "                print(\"Disarankan untuk diperiksa apakah ada gejala yang mengiringi bradikardia\")\n",
    "            elif 60<=denyut_nadi<=100:\n",
    "                print(\"Denyut nadi Anda normal\")\n",
    "            i +=1\n",
    "\n",
    "    case \"3\" :\n",
    "        print(\"Silahkan coba lagi\")\n",
    "    case _ :\n",
    "        print(\"Coba masukkan angka yang valid\")"
   ]
  },
  {
   "cell_type": "code",
   "execution_count": 7,
   "metadata": {},
   "outputs": [
    {
     "ename": "IndentationError",
     "evalue": "expected an indented block after 'while' statement on line 9 (2024994331.py, line 10)",
     "output_type": "error",
     "traceback": [
      "\u001b[1;36m  Cell \u001b[1;32mIn[7], line 10\u001b[1;36m\u001b[0m\n\u001b[1;33m    print(\"Cukup istirahat.\")\u001b[0m\n\u001b[1;37m    ^\u001b[0m\n\u001b[1;31mIndentationError\u001b[0m\u001b[1;31m:\u001b[0m expected an indented block after 'while' statement on line 9\n"
     ]
    }
   ],
   "source": [
    "angka = \"0\"\n",
    "\n",
    "#Menggunakan match-case untuk mencocokan angka\n",
    "match angka: \n",
    "    case \"1\" :\n",
    "       \n",
    "        print(\"Cukup istirahat.\") \n",
    "        print(\" Nama :\",nama)\n",
    "        suhu_tubuh = float(input(\"Masukkan suhu tubuh Anda\"))\n",
    "        print(\" suhu tubuh  :\",suhu_tubuh)\n",
    "        detak_jantung = int(input(\"Masukkan hasil detak jantung anda\"))\n",
    "        print(\" detak jantung  : \",detak_jantung)\n",
    "\n",
    "        # Mengecek apakah suhu tubuh di atas normal\n",
    "        if suhu_tubuh > 37.5:\n",
    "\n",
    "            #Mengecek apakah suhu tubuh sangat tinggi \n",
    "            if suhu_tubuh >= 39 and suhu_tubuh >= 50:\n",
    "                print(\"Harus segera dirawat.\")\n",
    "\n",
    "                #Mengecek detak jantung jika suhu tubuh tidak terlalu tinggi \n",
    "            else:\n",
    "                #Mengecek apakah detak jantung terlalu tinggi \n",
    "                if detak_jantung > 100:\n",
    "                    print(\"Detak jantung terlalu tinggi, butuh pemeriksaan lebih lanjut.\")\n",
    "                else:\n",
    "                    print(\"Detak jantung normal, perbanyak istirahat dan minum cairan.\")\n",
    "        else:\n",
    "            print(\"Suhu tubuh normal, tidak ada tindakan khusus yang diperlukan.\")\n",
    "            if detak_jantung > 100:\n",
    "                print(\"Detak jantung terlalu tinggi, butuh pemeriksaan lebih lanjut.\")\n",
    "            else:\n",
    "                print(\"Detak jantung normal, perbanyak istirahat dan minum cairan.\")\n",
    "    case \"2\" :\n",
    "        print(\"Codingan masih kosong.\")\n",
    "    case \"3\" :\n",
    "        print(\"Codingan masih kosong.\")\n",
    "    case _:\n",
    "        print(\"Masukkan angka yang valid.\")\n",
    "        "
   ]
  },
  {
   "cell_type": "code",
   "execution_count": 28,
   "metadata": {},
   "outputs": [
    {
     "name": "stdout",
     "output_type": "stream",
     "text": [
      "5 adalah angkanya\n",
      "6 adalah angkanya\n"
     ]
    }
   ],
   "source": [
    "for i in range(5,7):\n",
    "    print(f\"{i} adalah angkanya\")"
   ]
  },
  {
   "cell_type": "code",
   "execution_count": 32,
   "metadata": {},
   "outputs": [
    {
     "name": "stdout",
     "output_type": "stream",
     "text": [
      "angkanya adalah 0\n",
      "angkanya adalah 1\n",
      "angkanya adalah 2\n",
      "angkanya adalah 3\n",
      "angkanya adalah 4\n"
     ]
    }
   ],
   "source": [
    "\n",
    "i = 0\n",
    "\n",
    "while i<5 :\n",
    "    print(\"angkanya adalah\",i)\n",
    "    i +=1"
   ]
  },
  {
   "cell_type": "code",
   "execution_count": 3,
   "metadata": {},
   "outputs": [
    {
     "name": "stdout",
     "output_type": "stream",
     "text": [
      "1 adalah angkanya\n",
      "2 adalah angkanya\n",
      "3 adalah angkanya\n",
      "4 adalah angkanya\n",
      "5 adalah angkanya\n"
     ]
    }
   ],
   "source": [
    "for a in range(1,6):\n",
    "    print(f\"{a} adalah angkanya\")"
   ]
  },
  {
   "cell_type": "code",
   "execution_count": 4,
   "metadata": {},
   "outputs": [
    {
     "name": "stdout",
     "output_type": "stream",
     "text": [
      "angakanya adalah 6\n",
      "angakanya adalah 5\n",
      "angakanya adalah 4\n",
      "angakanya adalah 3\n",
      "angakanya adalah 2\n"
     ]
    }
   ],
   "source": [
    "for a in range(6,1,-1):\n",
    "    print(\"angakanya adalah\",a)"
   ]
  },
  {
   "cell_type": "code",
   "execution_count": 5,
   "metadata": {},
   "outputs": [
    {
     "name": "stdout",
     "output_type": "stream",
     "text": [
      "angkanya adalah 5\n",
      "angkanya adalah 7\n",
      "angkanya adalah 9\n"
     ]
    }
   ],
   "source": [
    "for a in range(5,10,2):\n",
    "    print(\"angkanya adalah\",a)"
   ]
  },
  {
   "cell_type": "code",
   "execution_count": 11,
   "metadata": {},
   "outputs": [
    {
     "name": "stdout",
     "output_type": "stream",
     "text": [
      "diskon sebesar : 45000.0\n",
      "diskon akhir : 255000.0\n"
     ]
    }
   ],
   "source": [
    "harga = int(input(\"Masukkan Harga\"))\n",
    "\n",
    "if harga > 270000:\n",
    "    harga_diskon = harga * 0.15\n",
    "    harga_akhir = harga - harga_diskon\n",
    "\n",
    "print(\"diskon sebesar :\", harga_diskon)\n",
    "print(\"diskon akhir :\", harga_akhir)\n"
   ]
  },
  {
   "cell_type": "code",
   "execution_count": 1,
   "metadata": {},
   "outputs": [
    {
     "name": "stdout",
     "output_type": "stream",
     "text": [
      "Bilangan Genap\n"
     ]
    }
   ],
   "source": [
    "angka = int(input(\"Masukkan bilangan :\"))\n",
    "\n",
    "if angka % 2 == 0 :\n",
    "    print(\"Bilangan Genap\")\n",
    "else:\n",
    "    print(\"Bilangan Ganjil\")"
   ]
  },
  {
   "cell_type": "code",
   "execution_count": 3,
   "metadata": {},
   "outputs": [
    {
     "name": "stdout",
     "output_type": "stream",
     "text": [
      "perulangan ke 1\n",
      "perulangan ke 2\n",
      "perulangan ke 3\n",
      "perulangan ke 4\n",
      "perulangan ke 5\n",
      "perulangan ke 6\n",
      "perulangan ke 7\n",
      "Akhirnya no 7 ketemu\n"
     ]
    }
   ],
   "source": [
    "found = False\n",
    "i = 0\n",
    "while not found:\n",
    "    if i == 7:\n",
    "        found = True\n",
    "        print(\"Akhirnya no 7 ketemu\")\n",
    "    else:\n",
    "        i += 1\n",
    "        print(f\"perulangan ke {i}\")"
   ]
  },
  {
   "cell_type": "code",
   "execution_count": null,
   "metadata": {},
   "outputs": [],
   "source": [
    "i = 0\n",
    "total = 0\n",
    "\n",
    "while i<10 and i<50:\n",
    "    total += i\n",
    "    print(f\"i:{i} \\ntotal:{total}\")\n",
    "    i +=1"
   ]
  },
  {
   "cell_type": "code",
   "execution_count": null,
   "metadata": {},
   "outputs": [],
   "source": [
    "#insert = memasukkan atau menambahkan index\n",
    "#append = pasti di inputkan di paling akhir\n",
    "#pop = menghapus index\n",
    "#remove = menghapus sesuai dengan kata kunci yang dimasukkan (menghilangkan index paling kecil)\n",
    "# jika menggunakan range akan di ukur sesuai dengan parameternya (n-1) \n",
    "# ** pangkat\n",
    "# break akan keluar dari perulangan terdekat"
   ]
  },
  {
   "cell_type": "code",
   "execution_count": 4,
   "metadata": {},
   "outputs": [
    {
     "name": "stdout",
     "output_type": "stream",
     "text": [
      "buahnya adalah : ['apple', 'blueberry', 'durian']\n"
     ]
    }
   ],
   "source": [
    "#membuat list \n",
    "buahbuahan = [\"apple\", 'banana', 'cherry']\n",
    "\n",
    "buahbuahan.insert(0,\"mangga\")\n",
    "#menambahkan elemen ke dalam list\n",
    "buahbuahan.append('durian')\n",
    "\n",
    "#mengakses elemen \n",
    "pilihan = buahbuahan[0], buahbuahan[3]\n",
    "\n",
    "#menghapus via index\n",
    "buahbuahan.pop(0)\n",
    "\n",
    "#mengubah elemen\n",
    "buahbuahan[1] = 'blueberry'\n",
    "\n",
    "#menghapus elemen via kata kunci\n",
    "buahbuahan.remove('cherry')\n",
    "\n",
    "print(f\"buahnya adalah : {buahbuahan}\")"
   ]
  },
  {
   "cell_type": "code",
   "execution_count": 5,
   "metadata": {},
   "outputs": [
    {
     "data": {
      "text/plain": [
       "{'Apple', 'apple', 'cherry', 'nanas'}"
      ]
     },
     "execution_count": 5,
     "metadata": {},
     "output_type": "execute_result"
    }
   ],
   "source": [
    "#tuple \n",
    "buahbuahan = {'Apple', 'apple', 'cherry'}\n",
    "\n",
    "#menambahkan elemen via kata kunci \n",
    "buahbuahan.add('nanas')\n",
    "buahbuahan.add('banana')\n",
    "\n",
    "#menghapus elemen via kata kunci\n",
    "buahbuahan.remove('banana')\n",
    "buahbuahan"
   ]
  },
  {
   "cell_type": "code",
   "execution_count": 4,
   "metadata": {},
   "outputs": [
    {
     "name": "stdout",
     "output_type": "stream",
     "text": [
      "hasilnya adalah ('apple', 'banana', 'cherry', 'cherry')\n"
     ]
    }
   ],
   "source": [
    "#tuple \n",
    "buahbuahan = ('apple', 'banana', 'cherry', 'cherry')\n",
    "\n",
    "coba = buahbuahan[2], buahbuahan[3]\n",
    "\n",
    "print(f\"hasilnya adalah {buahbuahan}\")"
   ]
  },
  {
   "cell_type": "code",
   "execution_count": null,
   "metadata": {},
   "outputs": [],
   "source": [
    "buahbuahan = ('apple', 'banana', 'cherry', 'cherry')\n",
    "\n",
    "for i in range(3):\n",
    "    print(buahbuahan[i]) "
   ]
  },
  {
   "cell_type": "code",
   "execution_count": 6,
   "metadata": {},
   "outputs": [
    {
     "name": "stdout",
     "output_type": "stream",
     "text": [
      "banana\n",
      "cherry\n",
      "cherry\n"
     ]
    }
   ],
   "source": [
    "buahbuahan = ('apple', 'banana', 'cherry', 'cherry')\n",
    "\n",
    "for i in range(1,4):\n",
    "    print(buahbuahan[i]) "
   ]
  },
  {
   "cell_type": "code",
   "execution_count": 7,
   "metadata": {},
   "outputs": [
    {
     "name": "stdout",
     "output_type": "stream",
     "text": [
      "durian\n",
      "mangga\n",
      "cherry\n"
     ]
    }
   ],
   "source": [
    "buahbuahan = ('apple', 'banana', 'cherry', 'mangga', 'durian')\n",
    "\n",
    "for i in range(4,1,-1):\n",
    "    print(buahbuahan[i]) "
   ]
  },
  {
   "cell_type": "code",
   "execution_count": 6,
   "metadata": {},
   "outputs": [
    {
     "name": "stdout",
     "output_type": "stream",
     "text": [
      "durian\n",
      "cherry\n",
      "apple\n"
     ]
    }
   ],
   "source": [
    "buahbuahan = ('apple', 'banana', 'cherry', 'mangga', 'durian')\n",
    "\n",
    "for i in range(4,-1,-2):\n",
    "    print(buahbuahan[i]) "
   ]
  },
  {
   "cell_type": "code",
   "execution_count": 8,
   "metadata": {},
   "outputs": [
    {
     "name": "stdout",
     "output_type": "stream",
     "text": [
      "durian\n",
      "cherry\n"
     ]
    }
   ],
   "source": [
    "buahbuahan = ('apple', 'banana', 'cherry', 'mangga', 'durian')\n",
    "\n",
    "for i in range(4,0,-2):\n",
    "    print(buahbuahan[i]) "
   ]
  },
  {
   "cell_type": "code",
   "execution_count": 10,
   "metadata": {},
   "outputs": [
    {
     "name": "stdout",
     "output_type": "stream",
     "text": [
      "banana\n",
      "mangga\n"
     ]
    }
   ],
   "source": [
    "buahbuahan = ('apple', 'banana', 'cherry', 'mangga', 'durian')\n",
    "\n",
    "for i in range(1,4,2):\n",
    "    print(buahbuahan[i]) "
   ]
  },
  {
   "cell_type": "code",
   "execution_count": 11,
   "metadata": {},
   "outputs": [
    {
     "name": "stdout",
     "output_type": "stream",
     "text": [
      "durian\n",
      "cherry\n"
     ]
    }
   ],
   "source": [
    "buahbuahan = ('apple', 'banana', 'cherry', 'mangga', 'durian')\n",
    "\n",
    "for i in range(4,1,-2):\n",
    "    print(buahbuahan[i]) "
   ]
  },
  {
   "cell_type": "code",
   "execution_count": 12,
   "metadata": {},
   "outputs": [
    {
     "name": "stdout",
     "output_type": "stream",
     "text": [
      "1\n",
      "2\n",
      "3\n",
      "4\n",
      "5\n"
     ]
    }
   ],
   "source": [
    "#set\n",
    "no_unik = {1,2,3,4,5}\n",
    "\n",
    "#iterasi menggunakan for \n",
    "for no in no_unik:\n",
    "    print(no)"
   ]
  },
  {
   "cell_type": "code",
   "execution_count": 14,
   "metadata": {},
   "outputs": [
    {
     "name": "stdout",
     "output_type": "stream",
     "text": [
      "B\n",
      "A\n",
      "B\n",
      "A\n",
      "A\n",
      "A\n"
     ]
    }
   ],
   "source": [
    "nilai = [80,87,35,90,86,90]\n",
    "\n",
    "for i in nilai:\n",
    "    if i > 80:\n",
    "        print (\"A\")\n",
    "    else:\n",
    "        print(\"B\")"
   ]
  },
  {
   "cell_type": "code",
   "execution_count": 2,
   "metadata": {},
   "outputs": [
    {
     "name": "stdout",
     "output_type": "stream",
     "text": [
      "Fungsi untuk menjalankan dua angka\n",
      "Hasil penjumlahan: (8, 15)\n"
     ]
    }
   ],
   "source": [
    "def masukan_angka(a,b):\n",
    "    print(\"Fungsi untuk menjalankan dua angka\")\n",
    "    hasil = a + b \n",
    "    return hasil, \n",
    "\n",
    "hasil_penjumlahan = masukan_angka(3, 5)\n",
    "print(f\"Hasil penjumlahan: {hasil_penjumlahan}\")\n",
    "\n"
   ]
  },
  {
   "cell_type": "code",
   "execution_count": 3,
   "metadata": {},
   "outputs": [
    {
     "name": "stdout",
     "output_type": "stream",
     "text": [
      "hasil akhir adalah: 200\n"
     ]
    }
   ],
   "source": [
    "def cobain(angka1, angka2):\n",
    "    hasilnya = angka1*angka2\n",
    "    return hasilnya\n",
    "\n",
    "cobain_lagi = cobain(10, 20)\n",
    "print(f\"hasil akhir adalah: {cobain_lagi}\")"
   ]
  },
  {
   "cell_type": "code",
   "execution_count": 7,
   "metadata": {},
   "outputs": [
    {
     "name": "stdout",
     "output_type": "stream",
     "text": [
      "tidak bisa dihitung\n",
      "hasil function: tidak ada\n"
     ]
    }
   ],
   "source": [
    "def coba_percabangan(a, b):\n",
    "    if  a > b:\n",
    "        print(\"hitungin dong\")\n",
    "        hasil = a * b\n",
    "    else:\n",
    "        print(\"tidak bisa dihitung\")\n",
    "        hasil = \"tidak ada\"\n",
    "    return hasil\n",
    "\n",
    "cobain_terus = coba_percabangan(1, 2)\n",
    "print(f\"hasil function: {cobain_terus}\")\n"
   ]
  },
  {
   "cell_type": "code",
   "execution_count": 1,
   "metadata": {},
   "outputs": [
    {
     "name": "stdout",
     "output_type": "stream",
     "text": [
      "Hasil penjumlahan: 58\n",
      "rata-rata adalah: 8.285714285714286\n"
     ]
    }
   ],
   "source": [
    "def tambah_semua(*args):\n",
    "    return sum(args)\n",
    "\n",
    "# memanggil fungsi\n",
    "hasil = tambah_semua(1, 2, 3, 4, 10, 19, 19)\n",
    "rata_rata = hasil/7\n",
    "print(f\"Hasil penjumlahan: {hasil}\")\n",
    "print(f\"rata-rata adalah: {rata_rata}\")"
   ]
  },
  {
   "cell_type": "code",
   "execution_count": 11,
   "metadata": {},
   "outputs": [
    {
     "name": "stdout",
     "output_type": "stream",
     "text": [
      "10 adalah bilangan positif\n",
      " -3 adalah bilangan negatif\n",
      "0 adalah nol\n",
      "7 adalah bilangan positif\n",
      " -1 adalah bilangan negatif\n"
     ]
    }
   ],
   "source": [
    "def check_number(*args):\n",
    "    results = []\n",
    "    for num in args:\n",
    "        if num > 0:\n",
    "            results.append(f\"{num} adalah bilangan positif\")\n",
    "        elif num < 0 :\n",
    "            results.append(f\" {num} adalah bilangan negatif\")\n",
    "        else:\n",
    "            results.append(f\"{num} adalah nol\")\n",
    "    return results\n",
    "\n",
    "# Contoh pengguna fungsi\n",
    "numbers = [10, -3, 0, 7, -1]\n",
    "results = check_number(*numbers)\n",
    "for result in results:\n",
    "    print(result)\n"
   ]
  },
  {
   "cell_type": "code",
   "execution_count": 12,
   "metadata": {},
   "outputs": [
    {
     "name": "stdout",
     "output_type": "stream",
     "text": [
      "Hello, Ikrima!\n",
      "Hello, Stranger!\n"
     ]
    }
   ],
   "source": [
    "def greet(**kwargs):\n",
    "    if 'name' in kwargs:\n",
    "        print(f\"Hello, {kwargs['name']}!\")\n",
    "    else:\n",
    "        print(\"Hello, Stranger!\")\n",
    "\n",
    "# memanggil fungsi dengan argumen kata kunci\n",
    "greet(name=\"Ikrima\")\n",
    "\n",
    "# memanggil fungsi tanpa argumen kata kunci\n",
    "greet()"
   ]
  },
  {
   "cell_type": "code",
   "execution_count": 4,
   "metadata": {},
   "outputs": [
    {
     "name": "stdout",
     "output_type": "stream",
     "text": [
      "ini adalah fungsi luar dengan parameter: Ikrima Nurul\n"
     ]
    }
   ],
   "source": [
    "def luar(argumen1):\n",
    "    print(f\"ini adalah fungsi luar dengan parameter: {argumen1}\")\n",
    "\n",
    "    def dalam(inner_param):\n",
    "        print(f\"ini adalah fungsi dalam dengan parameter: {inner_param}\")\n",
    "\n",
    "        dalam(\"dalam\")\n",
    "        \n",
    "luar(\"Ikrima Nurul\")"
   ]
  },
  {
   "cell_type": "code",
   "execution_count": 2,
   "metadata": {},
   "outputs": [
    {
     "name": "stdout",
     "output_type": "stream",
     "text": [
      "Nama: ikrima\n",
      "Berat Badan: 40.0 kg\n",
      "Tinggi Badan: 1.56 m\n",
      "IMT: 16.44\n",
      "Kategori Kesehatan: Underweight\n",
      "Nama: ikrimaa\n",
      "Berat Badan: 50.0 kg\n",
      "Tinggi Badan: 1.7 m\n",
      "IMT: 17.3\n",
      "Kategori Kesehatan: Underweight\n",
      "Nama: ikrimaaa\n",
      "Berat Badan: 60.0 kg\n",
      "Tinggi Badan: 1.5 m\n",
      "IMT: 26.67\n",
      "Kategori Kesehatan: Overweight\n",
      "Nama: ikrimaaaaa\n",
      "Berat Badan: 70.0 kg\n",
      "Tinggi Badan: 1.47 m\n",
      "IMT: 32.39\n",
      "Kategori Kesehatan: Obesity\n"
     ]
    }
   ],
   "source": [
    "def hitung_IMT(berat_badan, tinggi_badan):\n",
    "    hasil = berat_badan / (tinggi_badan ** 2)\n",
    "    if hasil < 18.5:\n",
    "        kategori = \"Underweight\"\n",
    "    elif 18.5 <= hasil < 25:\n",
    "        kategori = \"Normal weight\"\n",
    "    elif 25 <= hasil < 30:\n",
    "        kategori = \"Overweight\"\n",
    "    else:\n",
    "        kategori = \"Obesity\"\n",
    "    return round(hasil, 2), kategori\n",
    "\n",
    "i = 0\n",
    "while  i < 4:\n",
    "    nama = input(\"Masukkan Nama Anda: \")\n",
    "    berat_badan = float(input(\"Silakan masukkan berat badan Anda (kilogram): \"))\n",
    "    tinggi_badan = float(input(\"Silakan masukkan tinggi badan Anda (meter): \")) \n",
    "\n",
    "    IMT, kategori = hitung_IMT(berat_badan, tinggi_badan)\n",
    "    print(f\"Nama: {nama}\")\n",
    "    print(f\"Berat Badan: {berat_badan} kg\")\n",
    "    print(f\"Tinggi Badan: {tinggi_badan} m\")\n",
    "    print(f\"IMT: {IMT}\")\n",
    "    print(f\"Kategori Kesehatan: {kategori}\")\n",
    "    i += 1 \n"
   ]
  },
  {
   "cell_type": "code",
   "execution_count": 1,
   "metadata": {},
   "outputs": [
    {
     "name": "stdout",
     "output_type": "stream",
     "text": [
      "perulangan ke:0\n",
      "perulangan ke:1\n",
      "perulangan ke:2\n",
      "perulangan ke:3\n",
      "perulangan ke:4\n",
      "5\n"
     ]
    },
    {
     "data": {
      "text/plain": [
       "625"
      ]
     },
     "execution_count": 1,
     "metadata": {},
     "output_type": "execute_result"
    }
   ],
   "source": [
    "def percabangan(a,b):\n",
    "    if a > b:\n",
    "        hitung = a ** b\n",
    "    else :\n",
    "        print(\"tidak bisa dihitung\")\n",
    "    def perulangan(z):\n",
    "        i = 0\n",
    "        while i < z:\n",
    "            print(f\"perulangan ke:{i}\")\n",
    "            i += 1\n",
    "        return z\n",
    "    a = perulangan(5)\n",
    "    print(a)\n",
    "    return hitung\n",
    "percabangan(5,4)"
   ]
  },
  {
   "cell_type": "code",
   "execution_count": 2,
   "metadata": {},
   "outputs": [
    {
     "data": {
      "text/plain": [
       "['ani', 'asri', 'dang', 'jel', 'ikrima', 'ina']"
      ]
     },
     "execution_count": 2,
     "metadata": {},
     "output_type": "execute_result"
    }
   ],
   "source": [
    "\n",
    "nama_pasien=[]\n",
    "jumlah_pasien = int(input(\"masukan jumlah pasien\"))\n",
    "for i in range (jumlah_pasien):\n",
    "    pasien = input(f\"masukkan pasien ke {i+1}:\")\n",
    "    nama_pasien.append(pasien)\n",
    "nama_pasien"
   ]
  },
  {
   "cell_type": "code",
   "execution_count": null,
   "metadata": {},
   "outputs": [],
   "source": [
    "# Memasukkan jumlah pasien \n",
    "jumlah_pasien = int(input(\"Masukkan jumlah pasien:\"))\n",
    "\n",
    "# Membuat list untuk menyimpan nama pasien\n",
    "nama_pasien=[]\n",
    "\n",
    "# Menggunakan perulangan untuk memasukan nama setiap pasien \n",
    "for i in range(jumlah_pasien):\n",
    "    nama = input(f\"Masukkan nama pasien ke {i+1}:\")\n",
    "    nama_pasien.append(nama)\n",
    "\n",
    "# Menampilkan nama-nama pasien yang telah dimasukkan\n",
    "print(\"\\nNama-nama pasien yang telah dimasukkan:\")\n",
    "for z in nama_pasien:\n",
    "    print(z)"
   ]
  },
  {
   "cell_type": "code",
   "execution_count": 16,
   "metadata": {},
   "outputs": [
    {
     "ename": "AttributeError",
     "evalue": "'int' object has no attribute 'append'",
     "output_type": "error",
     "traceback": [
      "\u001b[1;31m---------------------------------------------------------------------------\u001b[0m",
      "\u001b[1;31mAttributeError\u001b[0m                            Traceback (most recent call last)",
      "Cell \u001b[1;32mIn[16], line 12\u001b[0m\n\u001b[0;32m     10\u001b[0m \u001b[38;5;28;01mfor\u001b[39;00m i \u001b[38;5;129;01min\u001b[39;00m \u001b[38;5;28mrange\u001b[39m (hasil_detak_jantung):\n\u001b[0;32m     11\u001b[0m     pasien \u001b[38;5;241m=\u001b[39m \u001b[38;5;28minput\u001b[39m(\u001b[38;5;124mf\u001b[39m\u001b[38;5;124m\"\u001b[39m\u001b[38;5;124mmasukkan pasien ke \u001b[39m\u001b[38;5;132;01m{\u001b[39;00mi\u001b[38;5;241m+\u001b[39m\u001b[38;5;241m1\u001b[39m\u001b[38;5;132;01m}\u001b[39;00m\u001b[38;5;124m:\u001b[39m\u001b[38;5;124m\"\u001b[39m)\n\u001b[1;32m---> 12\u001b[0m     \u001b[43mhasil_detak_jantung\u001b[49m\u001b[38;5;241;43m.\u001b[39;49m\u001b[43mappend\u001b[49m(pasien)\n\u001b[0;32m     13\u001b[0m hasil_detak_jantung \n\u001b[0;32m     15\u001b[0m \u001b[38;5;66;03m# sum(nama_pasien)/(detak_jantung)\u001b[39;00m\n",
      "\u001b[1;31mAttributeError\u001b[0m: 'int' object has no attribute 'append'"
     ]
    }
   ],
   "source": [
    "nama_pasien=[]\n",
    "jumlah_pasien = int(input(\"masukan jumlah pasien\"))\n",
    "for i in range (jumlah_pasien):\n",
    "    pasien = input(f\"masukkan pasien ke {i+1}:\")\n",
    "    nama_pasien.append(pasien)\n",
    "nama_pasien\n",
    "\n",
    "detak_jantung = []\n",
    "hasil_detak_jantung = int (input(\"masukan hasil detak jantung:\"))\n",
    "for i in range (hasil_detak_jantung):\n",
    "    pasien = input(f\"masukkan pasien ke {i+1}:\")\n",
    "    hasil_detak_jantung.append(pasien)\n",
    "hasil_detak_jantung \n",
    "\n",
    "sum(nama_pasien)/(detak_jantung)\n"
   ]
  },
  {
   "cell_type": "code",
   "execution_count": null,
   "metadata": {},
   "outputs": [],
   "source": [
    "# Meminta jumlah pasien\n",
    "jumlah_pasien = int(input(\"Masukkan jumlah pasien yang akan didaftarkan: \"))\n",
    "\n",
    "# List untuk menyimpan data pasien\n",
    "nama_pasien = []\n",
    "detak_jantung = []\n",
    "\n",
    "# Memasukkan data setiap pasien\n",
    "for i in range(jumlah_pasien):\n",
    "    nama = input(f\"Masukkan nama pasien ke-{i+1}: \")\n",
    "    detak_per_menit = int(input(f\"Masukkan detak jantung per menit pasien ke-{i+1}: \"))\n",
    "    \n",
    "    # Mengubah detak per menit ke detik\n",
    "    detak_per_detik = detak_per_menit / 60\n",
    "    \n",
    "    # Menyimpan data\n",
    "    nama_pasien.append(nama)\n",
    "    detak_jantung.append(detak_per_detik)\n",
    "\n",
    "# Menghitung rata-rata detak jantung dalam detik\n",
    "rata_rata_detak = sum(detak_jantung) / len(detak_jantung)\n",
    "print(f\"\\nRata-rata detak jantung seluruh pasien dalam detik: {rata_rata_detak:.2f}\")\n",
    "\n",
    "# Menampilkan nama-nama pasien yang memiliki detak jantung di atas 120 per detik\n",
    "print(\"\\nPasien dengan detak jantung di atas 120 per detik:\")\n",
    "for i in range(jumlah_pasien):\n",
    "    if detak_jantung[i] > 120 / 60:  # Mengonversi 120 per menit ke detik\n",
    "        print(nama_pasien[i])"
   ]
  },
  {
   "cell_type": "code",
   "execution_count": null,
   "metadata": {},
   "outputs": [
    {
     "name": "stdout",
     "output_type": "stream",
     "text": [
      "\n",
      "Rata-rata tekanan darah sistolik dan tekanan darah diastolik seluruh pasien: 342.50\n",
      "\n",
      "Pasien dengan tekanan darah sistolik di atas 140 atau tekanan darah diastolik di atas 90:\n",
      "sondang\n",
      "ikrima\n"
     ]
    }
   ],
   "source": [
    "# Soal\n",
    "# Anda bekerja sebagai pengembang perangkat lunak di sebuah klinik kesehatan yang ingin membuat aplikasi sederhana untuk mencatat data pasien dan menganalisis tekanan darah. Tugas Anda adalah membuat program yang dapat melakukan hal berikut:\n",
    "# 1. Meminta pengguna untuk memasukkan jumlah pasien yang akan didaftarkan.\n",
    "# 2. Untuk setiap pasien, minta pengguna memasukkan nama, tekanan darah sistolik, dan tekanan darah diastolik.\n",
    "# 3. Simpan data setiap pasien dalam tiga list terpisah, satu untuk nama, satu untuk tekanan darah sistolik, dan satu untuk tekanan darah diastolik.\n",
    "# 4. Hitung dan tampilkan rata-rata tekanan darah sistolik dan diastolik dari semua pasien.\n",
    "# 5. Tampilkan nama-nama pasien yang memiliki tekanan darah sistolik di atas 140 atau tekanan darah diastolik di atas 90, yang menandakan hipertensi.\n",
    "\n",
    "# Jawaban :\n",
    "\n",
    "# Meminta jumlah pasien\n",
    "jumlah_pasien = int(input(\"Masukkan jumlah pasien yang akan didaftarkan: \"))\n",
    "\n",
    "# List untuk menyimpan data pasien\n",
    "nama_pasien = []\n",
    "tekanan_darah_diastolik = []\n",
    "tekanan_darah_sistolik = []\n",
    "\n",
    "# Memasukkan data setiap pasien\n",
    "for i in range(jumlah_pasien):\n",
    "    nama = input(f\"Masukkan nama pasien ke-{i+1}: \")\n",
    "    tekanan_darah_sistolik_pasien = int(input(f\"Masukkan tekanan darah sistolik pasien ke-{i+1}: \"))\n",
    "    tekanan_darah_diastolik_pasien = int(input(f\"Masukkan tekan darah diastolik pasien ke-{i+1}: \"))\n",
    "\n",
    "     # Menyimpan data\n",
    "    nama_pasien.append(nama)\n",
    "    tekanan_darah_sistolik.append(tekanan_darah_sistolik_pasien)\n",
    "    tekanan_darah_diastolik.append(tekanan_darah_diastolik_pasien)\n",
    "\n",
    "# Menghitung rata-rata tekanan darah sistolik dan tekanan darah diastolik\n",
    "rata_rata_tekanan_darah = sum(tekanan_darah_sistolik + tekanan_darah_diastolik) / len(nama_pasien)\n",
    "print(f\"\\nRata-rata tekanan darah sistolik dan tekanan darah diastolik seluruh pasien: {rata_rata_tekanan_darah:.2f}\")\n",
    "\n",
    "# Menampilkan nama-nama pasien yang memiliki tekanan darah sistolik dan tekanan darah diastolik \n",
    "print(\"\\nPasien dengan tekanan darah sistolik di atas 140 atau tekanan darah diastolik di atas 90:\")\n",
    "for i in range(len(nama_pasien)):\n",
    "    if tekanan_darah_sistolik[i] > 140 or tekanan_darah_diastolik [i] > 90:\n",
    "        print(nama_pasien[i])\n",
    "        "
   ]
  },
  {
   "cell_type": "code",
   "execution_count": 1,
   "metadata": {},
   "outputs": [
    {
     "name": "stdout",
     "output_type": "stream",
     "text": [
      "7\n"
     ]
    }
   ],
   "source": [
    "def some_func(a, b, c=3):\n",
    "    return a + b * c\n",
    "\n",
    "print(some_func(1,2))"
   ]
  },
  {
   "cell_type": "code",
   "execution_count": 2,
   "metadata": {},
   "outputs": [
    {
     "name": "stdout",
     "output_type": "stream",
     "text": [
      "0\n",
      "2\n",
      "4\n",
      "6\n",
      "8\n"
     ]
    }
   ],
   "source": [
    "a = [10, 2, 7, 8, 4, 5, 8, 3, 5, 6]\n",
    "for i in range(len(a)):\n",
    "    if i % 2 == 0:\n",
    "        print(i)"
   ]
  },
  {
   "cell_type": "code",
   "execution_count": null,
   "metadata": {},
   "outputs": [
    {
     "ename": "IndentationError",
     "evalue": "expected an indented block after 'if' statement on line 8 (1634358726.py, line 9)",
     "output_type": "error",
     "traceback": [
      "\u001b[1;36m  Cell \u001b[1;32mIn[5], line 9\u001b[1;36m\u001b[0m\n\u001b[1;33m    i += 1\u001b[0m\n\u001b[1;37m    ^\u001b[0m\n\u001b[1;31mIndentationError\u001b[0m\u001b[1;31m:\u001b[0m expected an indented block after 'if' statement on line 8\n"
     ]
    }
   ],
   "source": [
    "data = [5, 12, 8, 20, 7, 14, 11]\n",
    "filtered_data = []\n",
    "i = 0 \n",
    "\n",
    "while i < len(data):\n",
    "    if data[i] > 10:\n",
    "        filtered_data.insert(0, data[i])\n",
    "        if data[i] > 15:\n",
    "i += 1\n",
    "\n",
    "print('Data yang sudah difilter:', filtered_data)\n"
   ]
  },
  {
   "cell_type": "code",
   "execution_count": 7,
   "metadata": {},
   "outputs": [
    {
     "name": "stdout",
     "output_type": "stream",
     "text": [
      "suhu tubuh yang melebihi batas: [38.2, 37.0, 39.1]\n"
     ]
    }
   ],
   "source": [
    "suhu = [36.5, 38.2, 37.0, 39.1, 37.8, 36.9]\n",
    "yang_dipilih =[]\n",
    "\n",
    "for i in range(0,4):\n",
    "    if suhu[i] >= 36.9:\n",
    "        yang_dipilih.append(suhu[i])\n",
    "    i += 1\n",
    "\n",
    "print('suhu tubuh yang melebihi batas:', yang_dipilih)"
   ]
  },
  {
   "cell_type": "code",
   "execution_count": 4,
   "metadata": {},
   "outputs": [],
   "source": [
    "# membuat dictionary kosong \n",
    "kamusku = {} \n",
    "\n",
    "# membuat dictionary dengan data awal\n",
    "kamusku = {'Nama' : 'Ikrima', 'Usia' : 20, 'kota' : 'Bandung',}"
   ]
  },
  {
   "cell_type": "code",
   "execution_count": 5,
   "metadata": {},
   "outputs": [
    {
     "name": "stdout",
     "output_type": "stream",
     "text": [
      "nama saya adalah Ikrima\n",
      "usia saya adalah 20\n",
      "kota saya adalah Bandung\n"
     ]
    }
   ],
   "source": [
    "nama_saya = kamusku['Nama']\n",
    "print (f'nama saya adalah {nama_saya}')\n",
    "usia_saya = kamusku['Usia']\n",
    "print (f'usia saya adalah {usia_saya}')\n",
    "kota_saya = kamusku['kota']\n",
    "print (f'kota saya adalah {kota_saya}')"
   ]
  },
  {
   "cell_type": "code",
   "execution_count": 8,
   "metadata": {},
   "outputs": [
    {
     "data": {
      "text/plain": [
       "{'Nama': 'Ikrima',\n",
       " 'Usia': 17,\n",
       " 'kota': 'Bandung',\n",
       " 'pekerjaan': 'System Analyst'}"
      ]
     },
     "execution_count": 8,
     "metadata": {},
     "output_type": "execute_result"
    }
   ],
   "source": [
    "kamusku = {'Nama' : 'Ikrima', 'Usia' : 20, 'kota' : 'Bandung',}\n",
    "# menambah item baru \n",
    "kamusku['pekerjaan'] = 'System Analyst'\n",
    "kamusku \n",
    "\n",
    "# memodifikasi item yang ada \n",
    "kamusku['Usia'] = 17\n",
    "kamusku "
   ]
  },
  {
   "cell_type": "code",
   "execution_count": null,
   "metadata": {},
   "outputs": [
    {
     "data": {
      "text/plain": [
       "{'Nama': 'Ikrima', 'Usia': 17, 'pekerjaan': 'System Analyst'}"
      ]
     },
     "execution_count": 9,
     "metadata": {},
     "output_type": "execute_result"
    }
   ],
   "source": [
    "# menghapus item dengan del \n",
    "del kamusku['kota']\n",
    "kamusku\n",
    "\n",
    "# menggunakan pop untuk menghapus dan mendapatkan nilai dimasukkan ke dalam variabel\n",
    "# kota = kamusku.pop('kota')\n",
    "# kota\n",
    "# cara memanggil value print(my_dict['kota'] nama value nya)"
   ]
  },
  {
   "cell_type": "code",
   "execution_count": 12,
   "metadata": {},
   "outputs": [
    {
     "data": {
      "text/plain": [
       "{'a': 1, 'b': 3, 'c': 4}"
      ]
     },
     "execution_count": 12,
     "metadata": {},
     "output_type": "execute_result"
    }
   ],
   "source": [
    "dict1 = {'a' : 1, 'b' : 2,}\n",
    "dict2 = {'b' : 3, 'c' : 4,}\n",
    "dict1.update(dict2)\n",
    "dict1"
   ]
  },
  {
   "cell_type": "code",
   "execution_count": 15,
   "metadata": {},
   "outputs": [
    {
     "name": "stdout",
     "output_type": "stream",
     "text": [
      "Nama Ikrima\n",
      "Usia 17\n",
      "kota Bandung\n"
     ]
    }
   ],
   "source": [
    "kamusku = {'Nama' : 'Ikrima', 'Usia' : 20, 'kota' : 'Bandung',}\n",
    "kamusku['Usia'] = 17\n",
    "\n",
    "for i in kamusku:\n",
    "    print(i, kamusku[i])"
   ]
  },
  {
   "cell_type": "code",
   "execution_count": 16,
   "metadata": {},
   "outputs": [
    {
     "name": "stdout",
     "output_type": "stream",
     "text": [
      "Ikrima\n",
      "17\n",
      "Bandung\n"
     ]
    }
   ],
   "source": [
    "kamusku = {'Nama' : 'Ikrima', 'Usia' : 20, 'kota' : 'Bandung',}\n",
    "kamusku['Usia'] = 17\n",
    "\n",
    "for i in kamusku.values():\n",
    "    print(i)"
   ]
  },
  {
   "cell_type": "code",
   "execution_count": 17,
   "metadata": {},
   "outputs": [
    {
     "data": {
      "text/plain": [
       "{'Nama': 'Ikrima', 'Usia': 17, 'kota': 'Bandung'}"
      ]
     },
     "execution_count": 17,
     "metadata": {},
     "output_type": "execute_result"
    }
   ],
   "source": [
    "kamusku = {'Nama' : 'Ikrima', 'Usia' : 20, 'kota' : 'Bandung',}\n",
    "kamusku['Usia'] = 17\n",
    "kamusku "
   ]
  },
  {
   "cell_type": "code",
   "execution_count": 18,
   "metadata": {},
   "outputs": [
    {
     "name": "stdout",
     "output_type": "stream",
     "text": [
      "Nama Ikrima\n",
      "Usia 17\n",
      "kota Bandung\n"
     ]
    }
   ],
   "source": [
    "for i,j in kamusku.items():\n",
    "    print(i,j)"
   ]
  },
  {
   "cell_type": "code",
   "execution_count": 19,
   "metadata": {},
   "outputs": [],
   "source": [
    "# dictionary bersarang yang berisi informasi orang \n",
    "dictionary_banyak = {\n",
    "    'orang1': {'nama' : 'Ikrima', 'usia' : 20},\n",
    "    'orang2': {'nama' : 'rida', 'usia' : 21}\n",
    "}"
   ]
  },
  {
   "cell_type": "code",
   "execution_count": 23,
   "metadata": {},
   "outputs": [
    {
     "name": "stdout",
     "output_type": "stream",
     "text": [
      "nama orang ke 1 adalah Ikrima, usianya 20\n",
      "nama orang ke 2 adalah rida, usianya 21\n"
     ]
    }
   ],
   "source": [
    "nama = (dictionary_banyak['orang1']['nama'])\n",
    "usia = (dictionary_banyak['orang1']['usia'])\n",
    "print (f\"nama orang ke 1 adalah {nama}, usianya {usia}\")\n",
    "nama = (dictionary_banyak['orang2']['nama'])\n",
    "usia = (dictionary_banyak['orang2']['usia'])\n",
    "print (f\"nama orang ke 2 adalah {nama}, usianya {usia}\")"
   ]
  },
  {
   "cell_type": "code",
   "execution_count": null,
   "metadata": {},
   "outputs": [
    {
     "name": "stdout",
     "output_type": "stream",
     "text": [
      " ID Orang: orang1\n",
      " Nama: Ikrima\n",
      " ID Orang: orang2\n",
      " Nama: rida\n"
     ]
    }
   ],
   "source": [
    "# Iterasi melalui dictionary bersarang\n",
    "for i,j in dictionary_banyak.items():\n",
    "    print(f\" ID Orang: {i}\")\n",
    "    print(f\" Nama: {j['nama']}\")"
   ]
  },
  {
   "cell_type": "code",
   "execution_count": 50,
   "metadata": {},
   "outputs": [
    {
     "name": "stdout",
     "output_type": "stream",
     "text": [
      "{'lokasi1': {'nama_lokasi': 'Area Kota 1', 'jumlah_limbah': {'plastik': 500, 'organik': 300, 'logam': 200}}, 'lokasi2': {'nama_lokasi': 'Area Kota 2', 'jumlah_limbah': {'plastik': 700, 'organik': 400, 'logam': 250}}, 'lokasi3': {'nama_lokasi': 'Area Kota 3', 'jumlah_limbah': {'plastik': 600, 'organik': 350, 'logam': 300}}}\n"
     ]
    }
   ],
   "source": [
    "data_limbah = {\n",
    "    'lokasi1' : {\n",
    "        'nama_lokasi' : 'Area Kota 1',\n",
    "        'jumlah_limbah' : {\n",
    "            'plastik' : 500,\n",
    "            'organik' : 300,\n",
    "            'logam' : 200\n",
    "        }\n",
    "    }, \n",
    "'lokasi2' : {\n",
    "    'nama_lokasi' : 'Area Kota 2',\n",
    "    'jumlah_limbah' : {\n",
    "        'plastik' : 700,\n",
    "        'organik' : 400,\n",
    "        'logam' : 250\n",
    "    }\n",
    "}, \n",
    "'lokasi3' : {\n",
    "    'nama_lokasi' : 'Area Kota 3',  \n",
    "    'jumlah_limbah' : {\n",
    "        'plastik' : 600,\n",
    "        'organik' : 350,\n",
    "        'logam' : 300\n",
    "    }\n",
    "}\n",
    "}\n",
    "\n",
    "#  1. print semua data lokasi\n",
    "print(data_limbah)\n",
    "\n",
    "\n",
    "\n",
    "\n"
   ]
  },
  {
   "cell_type": "code",
   "execution_count": 49,
   "metadata": {},
   "outputs": [
    {
     "name": "stdout",
     "output_type": "stream",
     "text": [
      "500\n",
      "700\n"
     ]
    }
   ],
   "source": [
    "data_limbah = {\n",
    "    'lokasi1' : {\n",
    "        'nama_lokasi' : 'Area Kota 1',\n",
    "        'jumlah_limbah' : {\n",
    "            'plastik' : 500,\n",
    "            'organik' : 300,\n",
    "            'logam' : 200\n",
    "        }\n",
    "    }, \n",
    "'lokasi2' : {\n",
    "    'nama_lokasi' : 'Area Kota 2',\n",
    "    'jumlah_limbah' : {\n",
    "        'plastik' : 700,\n",
    "        'organik' : 400,\n",
    "        'logam' : 250\n",
    "    }\n",
    "}, \n",
    "'lokasi3' : {\n",
    "    'nama_lokasi' : 'Area Kota 3',  \n",
    "    'jumlah_limbah' : {\n",
    "        'plastik' : 600,\n",
    "        'organik' : 350,\n",
    "        'logam' : 300\n",
    "    }\n",
    "}\n",
    "}\n",
    "\n",
    "#  2. print hanya jumlah limbah plastik dari 2 lokasi \n",
    "\n",
    "print(data_limbah['lokasi1']['jumlah_limbah']['plastik'])\n",
    "print(data_limbah['lokasi2']['jumlah_limbah']['plastik'])\n"
   ]
  },
  {
   "cell_type": "code",
   "execution_count": 51,
   "metadata": {},
   "outputs": [
    {
     "name": "stdout",
     "output_type": "stream",
     "text": [
      "Area Kota 3\n"
     ]
    }
   ],
   "source": [
    "data_limbah = {\n",
    "    'lokasi1' : {\n",
    "        'nama_lokasi' : 'Area Kota 1',\n",
    "        'jumlah_limbah' : {\n",
    "            'plastik' : 500,\n",
    "            'organik' : 300,\n",
    "            'logam' : 200\n",
    "        }\n",
    "    }, \n",
    "'lokasi2' : {\n",
    "    'nama_lokasi' : 'Area Kota 2',\n",
    "    'jumlah_limbah' : {\n",
    "        'plastik' : 700,\n",
    "        'organik' : 400,\n",
    "        'logam' : 250\n",
    "    }\n",
    "}, \n",
    "'lokasi3' : {\n",
    "    'nama_lokasi' : 'Area Kota 3',  \n",
    "    'jumlah_limbah' : {\n",
    "        'plastik' : 600,\n",
    "        'organik' : 350,\n",
    "        'logam' : 300\n",
    "    }\n",
    "}\n",
    "}\n",
    "\n",
    "# nomor 3 print nama lokasi 3\n",
    "print(data_limbah['lokasi3']['nama_lokasi'])\n"
   ]
  },
  {
   "cell_type": "code",
   "execution_count": 54,
   "metadata": {},
   "outputs": [
    {
     "ename": "SyntaxError",
     "evalue": "cannot assign to function call here. Maybe you meant '==' instead of '='? (308803217.py, line 29)",
     "output_type": "error",
     "traceback": [
      "\u001b[1;36m  Cell \u001b[1;32mIn[54], line 29\u001b[1;36m\u001b[0m\n\u001b[1;33m    print (data_limbah['lokasi1']['jumlah_limbah']['organik']) = 300\u001b[0m\n\u001b[1;37m    ^\u001b[0m\n\u001b[1;31mSyntaxError\u001b[0m\u001b[1;31m:\u001b[0m cannot assign to function call here. Maybe you meant '==' instead of '='?\n"
     ]
    }
   ],
   "source": [
    "data_limbah = {\n",
    "    'lokasi1' : {\n",
    "        'nama_lokasi' : 'Area Kota 1',\n",
    "        'jumlah_limbah' : {\n",
    "            'plastik' : 500,\n",
    "            'organik' : 300,\n",
    "            'logam' : 200\n",
    "        }\n",
    "    }, \n",
    "'lokasi2' : {\n",
    "    'nama_lokasi' : 'Area Kota 2',\n",
    "    'jumlah_limbah' : {\n",
    "        'plastik' : 700,\n",
    "        'organik' : 400,\n",
    "        'logam' : 250\n",
    "    }\n",
    "}, \n",
    "'lokasi3' : {\n",
    "    'nama_lokasi' : 'Area Kota 3',  \n",
    "    'jumlah_limbah' : {\n",
    "        'plastik' : 600,\n",
    "        'organik' : 350,\n",
    "        'logam' : 300\n",
    "    }\n",
    "}\n",
    "}\n",
    "\n",
    "# 4. masukkan jumlah limbah organik dan logam setiap lokasi \n",
    "print (data_limbah['lokasi1']['jumlah_limbah']['organik']) = 300\n",
    "data_limbah['lokasi1']['jumlah_limbah']['logam'] = 200\n",
    "data_limbah['lokasi2']['jumlah_limbah']['organik'] = 400\n",
    "data_limbah['lokasi2']['jumlah_limbah']['logam'] = 250\n",
    "data_limbah['lokasi3']['jumlah_limbah']['organik'] = 350\n",
    "data_limbah['lokasi3']['jumlah_limbah']['logam'] = 300\n",
    "\n",
    "\n"
   ]
  },
  {
   "cell_type": "code",
   "execution_count": null,
   "metadata": {},
   "outputs": [
    {
     "name": "stdout",
     "output_type": "stream",
     "text": [
      " jenis sampah: sampah organik\n",
      " jumlah sampah: 120 kg\n",
      " lokasi pembuangan: TPA Organik\n",
      " jenis sampah: sampah anorganik\n",
      " jumlah sampah: 250 kg\n",
      " lokasi pembuangan: Pusat Daur Ulang\n",
      " jenis sampah: sampah B3\n",
      " jumlah sampah: 60 kg\n",
      " lokasi pembuangan: Tempat Pengolahan B3\n"
     ]
    }
   ],
   "source": [
    "data_sampah = {\n",
    "    'sampah organik': {\n",
    "        'jumlah_sampah': '120 kg',\n",
    "        'lokasi_pembuangan': 'TPA Organik'\n",
    "    },\n",
    "    'sampah anorganik': {\n",
    "        'jumlah_sampah': '250 kg',\n",
    "        'lokasi_pembuangan': 'Pusat Daur Ulang'\n",
    "    },\n",
    "    'sampah B3': {\n",
    "        'jumlah_sampah': '60 kg',\n",
    "        'lokasi_pembuangan': 'Tempat Pengolahan B3'\n",
    "    }\n",
    "}\n",
    "\n",
    "# 1. Menampilkan jumlah semua directory \n",
    "for i,j in data_sampah.items():\n",
    "    print(f\" jenis sampah: {i}\")\n",
    "    print(f\" jumlah sampah: {j['jumlah_sampah']}\")\n",
    "    print(f\" lokasi pembuangan: {j['lokasi_pembuangan']}\")\n"
   ]
  },
  {
   "cell_type": "code",
   "execution_count": null,
   "metadata": {},
   "outputs": [
    {
     "name": "stdout",
     "output_type": "stream",
     "text": [
      "Jumlah sampah: 250 kg\n",
      "Lokasi pembuangan: Tempat Pengolahan B3\n"
     ]
    }
   ],
   "source": [
    "data_sampah = {\n",
    "    'sampah organik': {\n",
    "        'jumlah_sampah': '120 kg',\n",
    "        'lokasi_pembuangan': 'TPA Organik'\n",
    "    },\n",
    "    'sampah anorganik': {\n",
    "        'jumlah_sampah': '250 kg',\n",
    "        'lokasi_pembuangan': 'Pusat Daur Ulang'\n",
    "    },\n",
    "    'sampah B3': {\n",
    "        'jumlah_sampah': '60 kg',\n",
    "        'lokasi_pembuangan': 'Tempat Pengolahan B3'\n",
    "    }\n",
    "}\n",
    "print(f\"Jumlah sampah: {data_sampah['sampah anorganik']['jumlah_sampah']}\") \n",
    "print(f\"Lokasi pembuangan: {data_sampah['sampah B3']['lokasi_pembuangan']}\")  "
   ]
  },
  {
   "cell_type": "code",
   "execution_count": 27,
   "metadata": {},
   "outputs": [
    {
     "name": "stdout",
     "output_type": "stream",
     "text": [
      " jenis sampah: sampah organik\n",
      " jumlah sampah: 130 kg\n",
      " jenis sampah: sampah anorganik\n",
      " jumlah sampah: 250 kg\n",
      " lokasi pembuangan: Pusat Daur Ulang\n",
      " jenis sampah: sampah B3\n",
      " jumlah sampah: 60 kg\n",
      " lokasi pembuangan: Tempat Pengolahan B3\n",
      " jenis sampah: sampah elektronik\n",
      " jumlah sampah: 40 kg\n",
      " lokasi pembuangan: Pusat Pengelolaan Elektronik\n"
     ]
    }
   ],
   "source": [
    "data_sampah = {\n",
    "    'sampah organik': {\n",
    "        'jumlah_sampah': '120 kg',\n",
    "        'lokasi_pembuangan': 'TPA Organik'\n",
    "    },\n",
    "    'sampah anorganik': {\n",
    "        'jumlah_sampah': '250 kg',\n",
    "        'lokasi_pembuangan': 'Pusat Daur Ulang'\n",
    "    },\n",
    "    'sampah B3': {\n",
    "        'jumlah_sampah': '60 kg',\n",
    "        'lokasi_pembuangan': 'Tempat Pengolahan B3'\n",
    "    }\n",
    "}\n",
    "\n",
    "data_sampah['sampah elektronik'] = {\n",
    "    'jumlah_sampah': '40 kg',\n",
    "    'lokasi_pembuangan': 'Pusat Pengelolaan Elektronik'\n",
    "}\n",
    "\n",
    "data_sampah['sampah organik'] = {\n",
    "    'jumlah_sampah' : '130 kg'\n",
    "}\n",
    "for i,j in data_sampah.items():\n",
    "    print(f\" jenis sampah: {i}\")\n",
    "    print(f\" jumlah sampah: {j['jumlah_sampah']}\")\n",
    "    if 'lokasi_pembuangan' in j :\n",
    "        print(f\" lokasi pembuangan: {j['lokasi_pembuangan']}\")"
   ]
  },
  {
   "cell_type": "code",
   "execution_count": 2,
   "metadata": {},
   "outputs": [
    {
     "name": "stdout",
     "output_type": "stream",
     "text": [
      "Jumlah sampah: 250 \n",
      "Lokasi pembuangan: Tempat Pengolahan B3\n",
      " jenis sampah: sampah organik\n",
      " jumlah sampah: 130  kg\n",
      "Pengelolaan intensif diperlukan untuk sampah organik karena jumlah sampah lebih dari 100 kg.\n",
      " jenis sampah: sampah anorganik\n",
      " jumlah sampah: 250  kg\n",
      " lokasi pembuangan: Pusat Daur Ulang\n",
      "Pengelolaan intensif diperlukan untuk sampah anorganik karena jumlah sampah lebih dari 100 kg.\n",
      " jenis sampah: sampah B3\n",
      " jumlah sampah: 60  kg\n",
      " lokasi pembuangan: Tempat Pengolahan B3\n",
      "sampah B3 dalam batas aman\n",
      " jenis sampah: sampah elektronik\n",
      " jumlah sampah: 40  kg\n",
      " lokasi pembuangan: Pusat Pengelolaan Elektronik\n",
      "sampah elektronik dalam batas aman\n"
     ]
    }
   ],
   "source": [
    "data_sampah = {\n",
    "    'sampah organik': {\n",
    "        'jumlah_sampah': '120 ',\n",
    "        'lokasi_pembuangan': 'TPA Organik'\n",
    "    },\n",
    "    'sampah anorganik': {\n",
    "        'jumlah_sampah': '250 ',\n",
    "        'lokasi_pembuangan': 'Pusat Daur Ulang'\n",
    "    },\n",
    "    'sampah B3': {\n",
    "        'jumlah_sampah': '60 ',\n",
    "        'lokasi_pembuangan': 'Tempat Pengolahan B3'\n",
    "    }\n",
    "}\n",
    "\n",
    "print(f\"Jumlah sampah: {data_sampah['sampah anorganik']['jumlah_sampah']}\") \n",
    "print(f\"Lokasi pembuangan: {data_sampah['sampah B3']['lokasi_pembuangan']}\")  \n",
    "\n",
    "data_sampah['sampah elektronik'] = {\n",
    "    'jumlah_sampah': '40 ',\n",
    "    'lokasi_pembuangan': 'Pusat Pengelolaan Elektronik'\n",
    "}\n",
    "\n",
    "data_sampah['sampah organik'] = {\n",
    "    'jumlah_sampah' : '130 '\n",
    "}\n",
    "for i,j in data_sampah.items():\n",
    "    print(f\" jenis sampah: {i}\")\n",
    "    print(f\" jumlah sampah: {j['jumlah_sampah']} kg\")\n",
    "    if 'lokasi_pembuangan' in j :\n",
    "        print(f\" lokasi pembuangan: {j['lokasi_pembuangan']}\")\n",
    "\n",
    "    jumlah_sampah_int = int(j['jumlah_sampah'].strip())  # untuk menghapus spasi dan mengonversi ke int\n",
    "\n",
    "    # soal nomor 3\n",
    "    if jumlah_sampah_int > 100:\n",
    "        print(f\"Pengelolaan intensif diperlukan untuk {i} karena jumlah sampah lebih dari 100 kg.\")\n",
    "    else:\n",
    "        print(f\"{i} dalam batas aman\")"
   ]
  },
  {
   "cell_type": "code",
   "execution_count": 1,
   "metadata": {},
   "outputs": [
    {
     "name": "stdout",
     "output_type": "stream",
     "text": [
      "0\n",
      "2\n",
      "4\n",
      "6\n",
      "8\n"
     ]
    }
   ],
   "source": [
    "a = [10,2,8,7,4,5,8,3,5,6]\n",
    "for i in range(len(a)):\n",
    "    if i % 2 == 0:\n",
    "        print(i)"
   ]
  },
  {
   "cell_type": "code",
   "execution_count": 5,
   "metadata": {},
   "outputs": [
    {
     "name": "stdout",
     "output_type": "stream",
     "text": [
      "data yang sudah di filter : [11, 14, 20, 12]\n"
     ]
    }
   ],
   "source": [
    "data = [5, 12, 8, 20, 7, 14, 11]\n",
    "filtered_data =[]\n",
    "i=0\n",
    "\n",
    "while i < len(data):\n",
    "    if data[i] > 10:\n",
    "        filtered_data.insert(0, data[i])\n",
    "        if data[i] > 15:\n",
    "            i += 1\n",
    "    i += 1\n",
    "\n",
    "print('data yang sudah di filter :', filtered_data)"
   ]
  },
  {
   "cell_type": "code",
   "execution_count": 6,
   "metadata": {},
   "outputs": [
    {
     "name": "stdout",
     "output_type": "stream",
     "text": [
      "7\n"
     ]
    }
   ],
   "source": [
    "def some_func(a, b, c=3):\n",
    "    return a + b * c\n",
    "\n",
    "print (some_func(1, 2))  # Output: 7"
   ]
  },
  {
   "cell_type": "code",
   "execution_count": 4,
   "metadata": {},
   "outputs": [],
   "source": [
    "import numpy as np"
   ]
  },
  {
   "cell_type": "code",
   "execution_count": 3,
   "metadata": {},
   "outputs": [
    {
     "name": "stdout",
     "output_type": "stream",
     "text": [
      "nilai array : 3\n"
     ]
    }
   ],
   "source": [
    "a = np.array([1, 2, 3])\n",
    "print(f\"nilai array : {a[2]}\")"
   ]
  },
  {
   "cell_type": "code",
   "execution_count": 5,
   "metadata": {},
   "outputs": [
    {
     "name": "stdout",
     "output_type": "stream",
     "text": [
      "[[1 2 3]\n",
      " [4 5 6]\n",
      " [7 8 9]]\n",
      "Element: 9\n"
     ]
    }
   ],
   "source": [
    "a = np.array([[1, 2, 3], [4, 5, 6], [7, 8, 9]])\n",
    "\n",
    "print(a)\n",
    "# Mengakses elemen\n",
    "element = a[2,2]\n",
    "# Mengakses satu baris\n",
    "# row = [2,:]\n",
    "# Mengakses satu kolom \n",
    "# column = a[:, 1]\n",
    "\n",
    "print(\"Element:\", element)\n",
    "# print(\"Row:\", row)\n",
    "# print(\"Column:\",column)"
   ]
  },
  {
   "cell_type": "code",
   "execution_count": 7,
   "metadata": {},
   "outputs": [
    {
     "name": "stdout",
     "output_type": "stream",
     "text": [
      "Menggunakan perulangan for:\n",
      "10\n",
      "2\n",
      "3\n",
      "4\n",
      "5\n",
      "9\n",
      "8\n"
     ]
    }
   ],
   "source": [
    "import numpy as np\n",
    "\n",
    "a = np.array([10, 2, 3, 4, 5, 9, 8])\n",
    "\n",
    "print(\"Menggunakan perulangan for:\")\n",
    "# for i in range (1,4):\n",
    "#     print(i)\n",
    "\n",
    "for i in a:\n",
    "    print(i)"
   ]
  },
  {
   "cell_type": "code",
   "execution_count": 8,
   "metadata": {},
   "outputs": [
    {
     "name": "stdout",
     "output_type": "stream",
     "text": [
      "Array[0,0]: 1, Array2[0,0]: 7\n",
      "Array[0,1]: 2, Array2[0,1]: 8\n",
      "Array[0,2]: 3, Array2[0,2]: 9\n",
      "Array[1,0]: 4, Array2[1,0]: 10\n",
      "Array[1,1]: 5, Array2[1,1]: 11\n",
      "Array[1,2]: 6, Array2[1,2]: 12\n"
     ]
    }
   ],
   "source": [
    "import numpy as np\n",
    "\n",
    "array1 = np.array([[1, 2, 3], [4, 5, 6]])\n",
    "array2 = np.array([[7, 8, 9], [10, 11, 12]])\n",
    "\n",
    "for i in range(array1.shape[0]) : #Iterasi setiap baris\n",
    "    for j in range(array1.shape[1]) : #Iterasi setiap kolom\n",
    "        print(f\"Array[{i},{j}]: {array1[i, j]}, Array2[{i},{j}]: {array2[i, j]}\")"
   ]
  },
  {
   "cell_type": "code",
   "execution_count": null,
   "metadata": {},
   "outputs": [
    {
     "name": "stdout",
     "output_type": "stream",
     "text": [
      " Jumlah sampah selama satu bulan \n",
      " Wilayah 1: 45.90 ton\n",
      " Wilayah 2: 45.90 ton\n"
     ]
    }
   ],
   "source": [
    "import numpy as np\n",
    "\n",
    "sampah_wilayah1 = np.array([1.2, 1.5, 1.3, 1.7, 1.6, 1.4, 1.1, 1.8, 1.5, 1.9,\n",
    "                            1.3, 1.6, 1.7, 1.4, 1.2, 1.5, 1.3, 1.9, 1.8, 1.7,\n",
    "                            1.5, 1.3, 1.2, 1.4, 1.6, 1.5, 1.9, 1.8, 1.6, 1.7]) # sampah per ton\n",
    "\n",
    "sampah_wilayah2 = np.array([1.1, 1.3, 1.4, 1.6, 1.5, 1.7, 1.2, 1.6, 1.7, 1.8,\n",
    "                            1.4, 1.5, 1.6, 1.3, 1.1, 1.4, 1.5, 1.8, 1.7, 1.6,\n",
    "                            1.4, 1.2, 1.3, 1.5, 1.8, 1.5, 1.9, 1.8, 1.9, 1.8]) # sampah per ton\n",
    "\n",
    "# 1. Hitung total sampah yang dikumpulkan di masing-masing wilayah selama sebulan\n",
    "jumlah_sampah_wilayah1 = np.sum(sampah_wilayah1)\n",
    "jumlah_sampah_wilayah2 = np.sum(sampah_wilayah2)\n",
    "\n",
    "print(\" Jumlah sampah selama satu bulan \")\n",
    "print(f\" Wilayah 1: {jumlah_sampah_wilayah1:.2f} ton\")\n",
    "print(f\" Wilayah 2: {jumlah_sampah_wilayah2:.2f} ton\")"
   ]
  },
  {
   "cell_type": "code",
   "execution_count": 2,
   "metadata": {},
   "outputs": [
    {
     "name": "stdout",
     "output_type": "stream",
     "text": [
      " hari di mana wilayah 1 mengumpulkan lebih banyak sampah dari wilayah 2 : [1, 2, 4, 5, 8, 10, 12, 13, 14, 15, 16, 18, 19, 20, 21, 22]\n",
      " hari di mana wilayah 2 mengumpulkan lebih banyak sampah dari wilayah 1 : [3, 6, 7, 9, 11, 17, 23, 24, 25, 29, 30]\n"
     ]
    }
   ],
   "source": [
    "import numpy as np\n",
    "\n",
    "sampah_wilayah1 = np.array([1.2, 1.5, 1.3, 1.7, 1.6, 1.4, 1.1, 1.8, 1.5, 1.9,\n",
    "                            1.3, 1.6, 1.7, 1.4, 1.2, 1.5, 1.3, 1.9, 1.8, 1.7,\n",
    "                            1.5, 1.3, 1.2, 1.4, 1.6, 1.5, 1.9, 1.8, 1.6, 1.7]) # sampah per ton\n",
    "\n",
    "sampah_wilayah2 = np.array([1.1, 1.3, 1.4, 1.6, 1.5, 1.7, 1.2, 1.6, 1.7, 1.8,\n",
    "                            1.4, 1.5, 1.6, 1.3, 1.1, 1.4, 1.5, 1.8, 1.7, 1.6,\n",
    "                            1.4, 1.2, 1.3, 1.5, 1.8, 1.5, 1.9, 1.8, 1.9, 1.8]) # sampah per ton\n",
    "\n",
    "# 2. Tentukan hari di mana wilayah pertama mengumpulkan lebih banyak sampah dari pada wilayah kedua dan sebaliknya\n",
    "hari_wilayah1 = []\n",
    "hari_wilayah2 = []\n",
    "\n",
    "for i in range(len(sampah_wilayah1)):\n",
    "    if sampah_wilayah1[i] > sampah_wilayah2[i]:\n",
    "        hari_wilayah1.append(i + 1) # di tambah 1 karena dimulai dari indeks 0\n",
    "    elif sampah_wilayah2[i] > sampah_wilayah1[i]:\n",
    "        hari_wilayah2.append(i + 1)\n",
    "\n",
    "print(f\" hari di mana wilayah 1 mengumpulkan lebih banyak sampah dari wilayah 2 : {hari_wilayah1}\")\n",
    "print(f\" hari di mana wilayah 2 mengumpulkan lebih banyak sampah dari wilayah 1 : {hari_wilayah2}\")\n"
   ]
  },
  {
   "cell_type": "code",
   "execution_count": 39,
   "metadata": {},
   "outputs": [
    {
     "name": "stdout",
     "output_type": "stream",
     "text": [
      " Total sampah setiap hari: [2.3 2.8 2.7 3.3 3.1 3.1 2.3 3.4 3.2 3.7 2.7 3.1 3.3 2.7 2.3 2.9 2.8 3.7\n",
      " 3.5 3.3 2.9 2.5 2.5 2.9 3.4 3.  3.8 3.6 3.5 3.5]\n"
     ]
    }
   ],
   "source": [
    "import numpy as np\n",
    "\n",
    "sampah_wilayah1 = np.array([1.2, 1.5, 1.3, 1.7, 1.6, 1.4, 1.1, 1.8, 1.5, 1.9,\n",
    "                            1.3, 1.6, 1.7, 1.4, 1.2, 1.5, 1.3, 1.9, 1.8, 1.7,\n",
    "                            1.5, 1.3, 1.2, 1.4, 1.6, 1.5, 1.9, 1.8, 1.6, 1.7]) # sampah per ton\n",
    "\n",
    "sampah_wilayah2 = np.array([1.1, 1.3, 1.4, 1.6, 1.5, 1.7, 1.2, 1.6, 1.7, 1.8,\n",
    "                            1.4, 1.5, 1.6, 1.3, 1.1, 1.4, 1.5, 1.8, 1.7, 1.6,\n",
    "                            1.4, 1.2, 1.3, 1.5, 1.8, 1.5, 1.9, 1.8, 1.9, 1.8]) # sampah per ton\n",
    "\n",
    "# 3. Hitung total sampah yang dikumpulkan oleh kedua wilayah setiap harinya.\n",
    "total_sampah_setiap_hari = sampah_wilayah1 + sampah_wilayah2\n",
    "\n",
    "print(f\" Total sampah setiap hari: {total_sampah_setiap_hari}\") \n"
   ]
  },
  {
   "cell_type": "code",
   "execution_count": 22,
   "metadata": {},
   "outputs": [
    {
     "data": {
      "text/html": [
       "<div>\n",
       "<style scoped>\n",
       "    .dataframe tbody tr th:only-of-type {\n",
       "        vertical-align: middle;\n",
       "    }\n",
       "\n",
       "    .dataframe tbody tr th {\n",
       "        vertical-align: top;\n",
       "    }\n",
       "\n",
       "    .dataframe thead th {\n",
       "        text-align: right;\n",
       "    }\n",
       "</style>\n",
       "<table border=\"1\" class=\"dataframe\">\n",
       "  <thead>\n",
       "    <tr style=\"text-align: right;\">\n",
       "      <th></th>\n",
       "      <th>Jenis</th>\n",
       "      <th>Berat (kg)</th>\n",
       "      <th>Daur Ulang</th>\n",
       "    </tr>\n",
       "  </thead>\n",
       "  <tbody>\n",
       "    <tr>\n",
       "      <th>0</th>\n",
       "      <td>Plastik</td>\n",
       "      <td>5</td>\n",
       "      <td>True</td>\n",
       "    </tr>\n",
       "    <tr>\n",
       "      <th>1</th>\n",
       "      <td>Kertas</td>\n",
       "      <td>2</td>\n",
       "      <td>True</td>\n",
       "    </tr>\n",
       "    <tr>\n",
       "      <th>2</th>\n",
       "      <td>Logam</td>\n",
       "      <td>3</td>\n",
       "      <td>True</td>\n",
       "    </tr>\n",
       "    <tr>\n",
       "      <th>3</th>\n",
       "      <td>Kaca</td>\n",
       "      <td>4</td>\n",
       "      <td>False</td>\n",
       "    </tr>\n",
       "  </tbody>\n",
       "</table>\n",
       "</div>"
      ],
      "text/plain": [
       "     Jenis  Berat (kg)  Daur Ulang\n",
       "0  Plastik           5        True\n",
       "1   Kertas           2        True\n",
       "2    Logam           3        True\n",
       "3     Kaca           4       False"
      ]
     },
     "execution_count": 22,
     "metadata": {},
     "output_type": "execute_result"
    }
   ],
   "source": [
    "import pandas as pd \n",
    "\n",
    "data_list = [\n",
    "    ['Plastik', 5, True],\n",
    "    ['Kertas', 2, True],\n",
    "    ['Logam', 3, True],\n",
    "    ['Kaca', 4, False]\n",
    "]\n",
    "\n",
    "df_list = pd.DataFrame(data_list, columns=['Jenis', 'Berat (kg)', 'Daur Ulang'])\n",
    "df_list"
   ]
  },
  {
   "cell_type": "code",
   "execution_count": null,
   "metadata": {},
   "outputs": [
    {
     "name": "stdout",
     "output_type": "stream",
     "text": [
      "Perulangan ke 1 adalah Jenis         Plastik\n",
      "Berat (kg)          5\n",
      "Daur Ulang       True\n",
      "Name: 0, dtype: object\n",
      "Perulangan ke 2 adalah Jenis         Kertas\n",
      "Berat (kg)         2\n",
      "Daur Ulang      True\n",
      "Name: 1, dtype: object\n",
      "Perulangan ke 3 adalah Jenis         Logam\n",
      "Berat (kg)        3\n",
      "Daur Ulang     True\n",
      "Name: 2, dtype: object\n",
      "Perulangan ke 4 adalah Jenis          Kaca\n",
      "Berat (kg)        4\n",
      "Daur Ulang    False\n",
      "Name: 3, dtype: object\n"
     ]
    }
   ],
   "source": [
    "# Menggunakan itterows untuk mengiterasi setiap baris \n",
    "for i, row in df_list.iterrows():\n",
    "    print(f\"Perulangan ke {i + 1} adalah {row}\") # untuk setiap baris di dadalm row\n",
    "\n",
    "# for i, row in df_list.iterrows():\n",
    "#     print(i) # untuk mengakses index baris\n",
    "\n"
   ]
  },
  {
   "cell_type": "code",
   "execution_count": 20,
   "metadata": {},
   "outputs": [
    {
     "name": "stdout",
     "output_type": "stream",
     "text": [
      "Perulangan ke 1 adalah Plastik\n",
      "Perulangan ke 2 adalah Kertas\n",
      "Perulangan ke 3 adalah Logam\n",
      "Perulangan ke 4 adalah Kaca\n"
     ]
    }
   ],
   "source": [
    "for i, row in df_list.iterrows():\n",
    "    print(f\"Perulangan ke {i + 1} adalah {row['Jenis']}\") # untuk setiap baris di dadalm row\n"
   ]
  },
  {
   "cell_type": "code",
   "execution_count": 36,
   "metadata": {},
   "outputs": [
    {
     "name": "stdout",
     "output_type": "stream",
     "text": [
      "Jenis: Plastik, Berat: 5 kg, Daur Ulang:True\n",
      "Jenis: Kertas, Berat: 2 kg, Daur Ulang:True\n",
      "Jenis: Logam, Berat: 3 kg, Daur Ulang:True\n"
     ]
    }
   ],
   "source": [
    "import pandas as pd \n",
    "\n",
    "data_list = [\n",
    "    ['Plastik', 5, True],\n",
    "    ['Kertas', 2, True],\n",
    "    ['Logam', 3, True],\n",
    "    ['Kaca', 4, False]\n",
    "]\n",
    "\n",
    "# if row['Daur Ulang'] == True:\n",
    "#     print(row['Jenis'])\n",
    "# else:\n",
    "#     print('Tidak Daur Ulang')\n",
    "\n",
    "for index, row in df_list.iterrows():\n",
    "    a = row['Daur Ulang']\n",
    "    if a == True:\n",
    "        print(f\"Jenis: {row['Jenis']}, Berat: {row['Berat (kg)']} kg, Daur Ulang:{a}\")  \n",
    "        \n"
   ]
  },
  {
   "cell_type": "code",
   "execution_count": 3,
   "metadata": {},
   "outputs": [
    {
     "data": {
      "text/html": [
       "<div>\n",
       "<style scoped>\n",
       "    .dataframe tbody tr th:only-of-type {\n",
       "        vertical-align: middle;\n",
       "    }\n",
       "\n",
       "    .dataframe tbody tr th {\n",
       "        vertical-align: top;\n",
       "    }\n",
       "\n",
       "    .dataframe thead th {\n",
       "        text-align: right;\n",
       "    }\n",
       "</style>\n",
       "<table border=\"1\" class=\"dataframe\">\n",
       "  <thead>\n",
       "    <tr style=\"text-align: right;\">\n",
       "      <th></th>\n",
       "      <th>Angka Ganjil</th>\n",
       "      <th>Angka Genap</th>\n",
       "    </tr>\n",
       "  </thead>\n",
       "  <tbody>\n",
       "    <tr>\n",
       "      <th>0</th>\n",
       "      <td>1</td>\n",
       "      <td>2</td>\n",
       "    </tr>\n",
       "    <tr>\n",
       "      <th>1</th>\n",
       "      <td>3</td>\n",
       "      <td>4</td>\n",
       "    </tr>\n",
       "    <tr>\n",
       "      <th>2</th>\n",
       "      <td>5</td>\n",
       "      <td>6</td>\n",
       "    </tr>\n",
       "    <tr>\n",
       "      <th>3</th>\n",
       "      <td>7</td>\n",
       "      <td>8</td>\n",
       "    </tr>\n",
       "    <tr>\n",
       "      <th>4</th>\n",
       "      <td>9</td>\n",
       "      <td>10</td>\n",
       "    </tr>\n",
       "  </tbody>\n",
       "</table>\n",
       "</div>"
      ],
      "text/plain": [
       "   Angka Ganjil  Angka Genap\n",
       "0             1            2\n",
       "1             3            4\n",
       "2             5            6\n",
       "3             7            8\n",
       "4             9           10"
      ]
     },
     "execution_count": 3,
     "metadata": {},
     "output_type": "execute_result"
    }
   ],
   "source": [
    "import pandas as pd \n",
    "\n",
    "data_angka = [\n",
    "    [1, 2],\n",
    "    [3, 4],\n",
    "    [5, 6],\n",
    "    [7, 8],\n",
    "    [9, 10]\n",
    "]\n",
    "\n",
    "df_list1 = pd.DataFrame(data_angka, columns=['Angka Ganjil', 'Angka Genap'])\n",
    "df_list1"
   ]
  },
  {
   "cell_type": "code",
   "execution_count": null,
   "metadata": {},
   "outputs": [],
   "source": [
    "import numpy as np\n",
    "import pandas as pd\n",
    "\n",
    "data_array = np.array([\n",
    "    ['Plastik', 5, True],\n",
    "    ['Kertas', 2, True],\n",
    "    ['Logam', 3, True],\n",
    "    ['Kaca', 4, False]\n",
    "    ])  "
   ]
  },
  {
   "cell_type": "code",
   "execution_count": 4,
   "metadata": {},
   "outputs": [
    {
     "data": {
      "text/html": [
       "<div>\n",
       "<style scoped>\n",
       "    .dataframe tbody tr th:only-of-type {\n",
       "        vertical-align: middle;\n",
       "    }\n",
       "\n",
       "    .dataframe tbody tr th {\n",
       "        vertical-align: top;\n",
       "    }\n",
       "\n",
       "    .dataframe thead th {\n",
       "        text-align: right;\n",
       "    }\n",
       "</style>\n",
       "<table border=\"1\" class=\"dataframe\">\n",
       "  <thead>\n",
       "    <tr style=\"text-align: right;\">\n",
       "      <th></th>\n",
       "      <th>Jenis</th>\n",
       "      <th>Berat (kg)</th>\n",
       "      <th>Daur Ulang</th>\n",
       "    </tr>\n",
       "  </thead>\n",
       "  <tbody>\n",
       "    <tr>\n",
       "      <th>0</th>\n",
       "      <td>Plastik</td>\n",
       "      <td>5</td>\n",
       "      <td>True</td>\n",
       "    </tr>\n",
       "    <tr>\n",
       "      <th>1</th>\n",
       "      <td>Kertas</td>\n",
       "      <td>2</td>\n",
       "      <td>True</td>\n",
       "    </tr>\n",
       "    <tr>\n",
       "      <th>2</th>\n",
       "      <td>Logam</td>\n",
       "      <td>3</td>\n",
       "      <td>True</td>\n",
       "    </tr>\n",
       "    <tr>\n",
       "      <th>3</th>\n",
       "      <td>Kaca</td>\n",
       "      <td>4</td>\n",
       "      <td>False</td>\n",
       "    </tr>\n",
       "  </tbody>\n",
       "</table>\n",
       "</div>"
      ],
      "text/plain": [
       "     Jenis  Berat (kg)  Daur Ulang\n",
       "0  Plastik           5        True\n",
       "1   Kertas           2        True\n",
       "2    Logam           3        True\n",
       "3     Kaca           4       False"
      ]
     },
     "execution_count": 4,
     "metadata": {},
     "output_type": "execute_result"
    }
   ],
   "source": [
    "import pandas as pd \n",
    "\n",
    "data_kamus = {\n",
    "    'Jenis' : ['Plastik', 'Kertas', 'Logam', 'Kaca'],\n",
    "    'Berat (kg)' : [5, 2, 3, 4],\n",
    "    'Daur Ulang' : [True, True, True, False]\n",
    "}\n",
    "\n",
    "df_kamus = pd.DataFrame(data_kamus)\n",
    "df_kamus"
   ]
  },
  {
   "cell_type": "code",
   "execution_count": null,
   "metadata": {},
   "outputs": [],
   "source": [
    "# df_list.to_csv('coba_export_list.csv', index=False)"
   ]
  },
  {
   "cell_type": "code",
   "execution_count": 10,
   "metadata": {},
   "outputs": [],
   "source": [
    "df_list.to_excel('coba_excel.xlsx', index=False)"
   ]
  },
  {
   "cell_type": "code",
   "execution_count": 11,
   "metadata": {},
   "outputs": [
    {
     "data": {
      "text/html": [
       "<div>\n",
       "<style scoped>\n",
       "    .dataframe tbody tr th:only-of-type {\n",
       "        vertical-align: middle;\n",
       "    }\n",
       "\n",
       "    .dataframe tbody tr th {\n",
       "        vertical-align: top;\n",
       "    }\n",
       "\n",
       "    .dataframe thead th {\n",
       "        text-align: right;\n",
       "    }\n",
       "</style>\n",
       "<table border=\"1\" class=\"dataframe\">\n",
       "  <thead>\n",
       "    <tr style=\"text-align: right;\">\n",
       "      <th></th>\n",
       "      <th>Jenis</th>\n",
       "      <th>Berat (kg)</th>\n",
       "      <th>Daur Ulang</th>\n",
       "    </tr>\n",
       "  </thead>\n",
       "  <tbody>\n",
       "    <tr>\n",
       "      <th>0</th>\n",
       "      <td>Plastik</td>\n",
       "      <td>5</td>\n",
       "      <td>True</td>\n",
       "    </tr>\n",
       "    <tr>\n",
       "      <th>1</th>\n",
       "      <td>Kertas</td>\n",
       "      <td>2</td>\n",
       "      <td>True</td>\n",
       "    </tr>\n",
       "    <tr>\n",
       "      <th>2</th>\n",
       "      <td>Logam</td>\n",
       "      <td>3</td>\n",
       "      <td>True</td>\n",
       "    </tr>\n",
       "    <tr>\n",
       "      <th>3</th>\n",
       "      <td>Kaca</td>\n",
       "      <td>4</td>\n",
       "      <td>False</td>\n",
       "    </tr>\n",
       "  </tbody>\n",
       "</table>\n",
       "</div>"
      ],
      "text/plain": [
       "     Jenis  Berat (kg)  Daur Ulang\n",
       "0  Plastik           5        True\n",
       "1   Kertas           2        True\n",
       "2    Logam           3        True\n",
       "3     Kaca           4       False"
      ]
     },
     "execution_count": 11,
     "metadata": {},
     "output_type": "execute_result"
    }
   ],
   "source": [
    "#  mengubah membaca file excel di python \n",
    "\n",
    "# Baca file Excel\n",
    "df_excel = pd.read_excel('coba_excel.xlsx', sheet_name='Sheet1')\n",
    "df_excel"
   ]
  },
  {
   "cell_type": "code",
   "execution_count": null,
   "metadata": {},
   "outputs": [
    {
     "data": {
      "text/plain": [
       "0    Plastik\n",
       "1     Kertas\n",
       "2      Logam\n",
       "3       Kaca\n",
       "Name: Jenis, dtype: object"
      ]
     },
     "execution_count": 12,
     "metadata": {},
     "output_type": "execute_result"
    }
   ],
   "source": [
    "filter_df = df_excel['Jenis']\n",
    "filter_df"
   ]
  },
  {
   "cell_type": "code",
   "execution_count": null,
   "metadata": {},
   "outputs": [
    {
     "name": "stdout",
     "output_type": "stream",
     "text": [
      "Kaca\n",
      "Kertas\n"
     ]
    }
   ],
   "source": [
    "# Mengakses dalam bari ke \n",
    "\n",
    "a = df_list.loc[3,'Jenis'] # pake nama kolom\n",
    "b = df_list.iloc[1,0] # pake angka\n",
    "print(a)\n",
    "print(b)"
   ]
  },
  {
   "cell_type": "code",
   "execution_count": null,
   "metadata": {},
   "outputs": [],
   "source": [
    "a  = 0 \n",
    "print(df_list)"
   ]
  },
  {
   "cell_type": "code",
   "execution_count": 11,
   "metadata": {},
   "outputs": [
    {
     "name": "stdout",
     "output_type": "stream",
     "text": [
      "Data Produksi Sampah Jawa Barat:\n"
     ]
    },
    {
     "data": {
      "text/html": [
       "<div>\n",
       "<style scoped>\n",
       "    .dataframe tbody tr th:only-of-type {\n",
       "        vertical-align: middle;\n",
       "    }\n",
       "\n",
       "    .dataframe tbody tr th {\n",
       "        vertical-align: top;\n",
       "    }\n",
       "\n",
       "    .dataframe thead th {\n",
       "        text-align: right;\n",
       "    }\n",
       "</style>\n",
       "<table border=\"1\" class=\"dataframe\">\n",
       "  <thead>\n",
       "    <tr style=\"text-align: right;\">\n",
       "      <th></th>\n",
       "      <th>nama_kabupaten_kota</th>\n",
       "      <th>jumlah_produksi_sampah</th>\n",
       "      <th>satuan</th>\n",
       "      <th>tahun</th>\n",
       "    </tr>\n",
       "  </thead>\n",
       "  <tbody>\n",
       "    <tr>\n",
       "      <th>0</th>\n",
       "      <td>KABUPATEN BOGOR</td>\n",
       "      <td>1511.15</td>\n",
       "      <td>TON PER HARI</td>\n",
       "      <td>2015</td>\n",
       "    </tr>\n",
       "    <tr>\n",
       "      <th>1</th>\n",
       "      <td>KABUPATEN SUKABUMI</td>\n",
       "      <td>419.01</td>\n",
       "      <td>TON PER HARI</td>\n",
       "      <td>2015</td>\n",
       "    </tr>\n",
       "    <tr>\n",
       "      <th>2</th>\n",
       "      <td>KABUPATEN CIANJUR</td>\n",
       "      <td>981.41</td>\n",
       "      <td>TON PER HARI</td>\n",
       "      <td>2015</td>\n",
       "    </tr>\n",
       "    <tr>\n",
       "      <th>3</th>\n",
       "      <td>KABUPATEN BANDUNG</td>\n",
       "      <td>1895.94</td>\n",
       "      <td>TON PER HARI</td>\n",
       "      <td>2015</td>\n",
       "    </tr>\n",
       "    <tr>\n",
       "      <th>4</th>\n",
       "      <td>KABUPATEN GARUT</td>\n",
       "      <td>464.74</td>\n",
       "      <td>TON PER HARI</td>\n",
       "      <td>2015</td>\n",
       "    </tr>\n",
       "    <tr>\n",
       "      <th>...</th>\n",
       "      <td>...</td>\n",
       "      <td>...</td>\n",
       "      <td>...</td>\n",
       "      <td>...</td>\n",
       "    </tr>\n",
       "    <tr>\n",
       "      <th>238</th>\n",
       "      <td>KOTA BEKASI</td>\n",
       "      <td>NaN</td>\n",
       "      <td>TON PER HARI</td>\n",
       "      <td>2023</td>\n",
       "    </tr>\n",
       "    <tr>\n",
       "      <th>239</th>\n",
       "      <td>KOTA DEPOK</td>\n",
       "      <td>NaN</td>\n",
       "      <td>TON PER HARI</td>\n",
       "      <td>2023</td>\n",
       "    </tr>\n",
       "    <tr>\n",
       "      <th>240</th>\n",
       "      <td>KOTA CIMAHI</td>\n",
       "      <td>NaN</td>\n",
       "      <td>TON PER HARI</td>\n",
       "      <td>2023</td>\n",
       "    </tr>\n",
       "    <tr>\n",
       "      <th>241</th>\n",
       "      <td>KOTA TASIKMALAYA</td>\n",
       "      <td>NaN</td>\n",
       "      <td>TON PER HARI</td>\n",
       "      <td>2023</td>\n",
       "    </tr>\n",
       "    <tr>\n",
       "      <th>242</th>\n",
       "      <td>KOTA BANJAR</td>\n",
       "      <td>NaN</td>\n",
       "      <td>TON PER HARI</td>\n",
       "      <td>2023</td>\n",
       "    </tr>\n",
       "  </tbody>\n",
       "</table>\n",
       "<p>243 rows × 4 columns</p>\n",
       "</div>"
      ],
      "text/plain": [
       "    nama_kabupaten_kota  jumlah_produksi_sampah        satuan  tahun\n",
       "0       KABUPATEN BOGOR                 1511.15  TON PER HARI   2015\n",
       "1    KABUPATEN SUKABUMI                  419.01  TON PER HARI   2015\n",
       "2     KABUPATEN CIANJUR                  981.41  TON PER HARI   2015\n",
       "3     KABUPATEN BANDUNG                 1895.94  TON PER HARI   2015\n",
       "4       KABUPATEN GARUT                  464.74  TON PER HARI   2015\n",
       "..                  ...                     ...           ...    ...\n",
       "238         KOTA BEKASI                     NaN  TON PER HARI   2023\n",
       "239          KOTA DEPOK                     NaN  TON PER HARI   2023\n",
       "240         KOTA CIMAHI                     NaN  TON PER HARI   2023\n",
       "241    KOTA TASIKMALAYA                     NaN  TON PER HARI   2023\n",
       "242         KOTA BANJAR                     NaN  TON PER HARI   2023\n",
       "\n",
       "[243 rows x 4 columns]"
      ]
     },
     "execution_count": 11,
     "metadata": {},
     "output_type": "execute_result"
    }
   ],
   "source": [
    "import pandas as pd\n",
    "file_path = 'disperkim-od_16985_jumlah_produksi_sampah_berdasarkan_kabupatenkota_v3_data.xlsx'\n",
    "data_sampah_kota_bandung = pd.read_excel(file_path, sheet_name='data')\n",
    "\n",
    "df_sampah_kota_bandung = data_sampah_kota_bandung[['nama_kabupaten_kota', 'jumlah_produksi_sampah', 'satuan', 'tahun']]\n",
    "print(\"Data Produksi Sampah Jawa Barat:\")\n",
    "df_sampah_kota_bandung\n"
   ]
  },
  {
   "cell_type": "code",
   "execution_count": 2,
   "metadata": {},
   "outputs": [
    {
     "name": "stdout",
     "output_type": "stream",
     "text": [
      "Total Produksi Sampah di Jawa Barat Pada Tahun 2015: 20969.27 ton per tahun\n"
     ]
    }
   ],
   "source": [
    "total_sampah = 0 \n",
    "for a, row in data_sampah_kota_bandung.iterrows():\n",
    "    if row['tahun'] == 2015 :\n",
    "        total_sampah += row['jumlah_produksi_sampah']\n",
    "   \n",
    "\n",
    "print(f\"Total Produksi Sampah di Jawa Barat Pada Tahun 2015: {total_sampah:.2f} ton per tahun\")"
   ]
  },
  {
   "cell_type": "code",
   "execution_count": 3,
   "metadata": {},
   "outputs": [
    {
     "name": "stdout",
     "output_type": "stream",
     "text": [
      "Total Produksi Sampah per Tahun:\n",
      "Tahun 2015: 20969.27 ton\n",
      "Tahun 2016: 20969.27 ton\n",
      "Tahun 2017: 20969.27 ton\n",
      "Tahun 2018: 22772.92 ton\n",
      "Tahun 2019: 24490.56 ton\n",
      "Tahun 2020: 25333.00 ton\n",
      "Tahun 2021: 15735.36 ton\n",
      "Tahun 2022: nan ton\n",
      "Tahun 2023: nan ton\n"
     ]
    }
   ],
   "source": [
    "total_sampah_per_tahun = {}\n",
    "\n",
    "for a, row in data_sampah_kota_bandung.iterrows():\n",
    "    tahun = row['tahun']\n",
    "    jumlah_sampah = row['jumlah_produksi_sampah'] \n",
    "\n",
    "    if tahun in total_sampah_per_tahun:\n",
    "        total_sampah_per_tahun[tahun] += jumlah_sampah\n",
    "    else:\n",
    "        total_sampah_per_tahun[tahun] = jumlah_sampah\n",
    "\n",
    "print(\"Total Produksi Sampah per Tahun:\")\n",
    "for tahun, total_sampah in total_sampah_per_tahun.items():\n",
    "    print(f\"Tahun {tahun}: {total_sampah:.2f} ton\")\n"
   ]
  },
  {
   "cell_type": "code",
   "execution_count": 7,
   "metadata": {},
   "outputs": [
    {
     "name": "stdout",
     "output_type": "stream",
     "text": [
      "Total Produksi Sampah per Kota/Kabupaten per Tahun:\n",
      "Kota/Kabupaten:KABUPATEN BOGOR, Tahun :2015, Total: 1511.15 ton\n",
      "Kota/Kabupaten:KABUPATEN SUKABUMI, Tahun :2015, Total: 419.01 ton\n",
      "Kota/Kabupaten:KABUPATEN CIANJUR, Tahun :2015, Total: 981.41 ton\n",
      "Kota/Kabupaten:KABUPATEN BANDUNG, Tahun :2015, Total: 1895.94 ton\n",
      "Kota/Kabupaten:KABUPATEN GARUT, Tahun :2015, Total: 464.74 ton\n",
      "Kota/Kabupaten:KABUPATEN TASIKMALAYA, Tahun :2015, Total: 464.52 ton\n",
      "Kota/Kabupaten:KABUPATEN CIAMIS, Tahun :2015, Total: 260.91 ton\n",
      "Kota/Kabupaten:KABUPATEN KUNINGAN, Tahun :2015, Total: 251.7 ton\n",
      "Kota/Kabupaten:KABUPATEN CIREBON, Tahun :2015, Total: 465.75 ton\n",
      "Kota/Kabupaten:KABUPATEN MAJALENGKA, Tahun :2015, Total: 254.63 ton\n",
      "Kota/Kabupaten:KABUPATEN SUMEDANG, Tahun :2015, Total: 237.96 ton\n",
      "Kota/Kabupaten:KABUPATEN INDRAMAYU, Tahun :2015, Total: 613.18 ton\n",
      "Kota/Kabupaten:KABUPATEN SUBANG, Tahun :2015, Total: 487.26 ton\n",
      "Kota/Kabupaten:KABUPATEN PURWAKARTA, Tahun :2015, Total: 308.96 ton\n",
      "Kota/Kabupaten:KABUPATEN KARAWANG, Tahun :2015, Total: 869.86 ton\n",
      "Kota/Kabupaten:KABUPATEN BEKASI, Tahun :2015, Total: 1228.6 ton\n",
      "Kota/Kabupaten:KABUPATEN BANDUNG BARAT, Tahun :2015, Total: 616.08 ton\n",
      "Kota/Kabupaten:KABUPATEN PANGANDARAN, Tahun :2015, Total: 185.83 ton\n",
      "Kota/Kabupaten:KOTA BOGOR, Tahun :2015, Total: 991.93 ton\n",
      "Kota/Kabupaten:KOTA SUKABUMI, Tahun :2015, Total: 309.91 ton\n",
      "Kota/Kabupaten:KOTA BANDUNG, Tahun :2015, Total: 2448.63 ton\n",
      "Kota/Kabupaten:KOTA CIREBON, Tahun :2015, Total: 304.15 ton\n",
      "Kota/Kabupaten:KOTA BEKASI, Tahun :2015, Total: 2387.08 ton\n",
      "Kota/Kabupaten:KOTA DEPOK, Tahun :2015, Total: 1844.3 ton\n",
      "Kota/Kabupaten:KOTA CIMAHI, Tahun :2015, Total: 563.21 ton\n",
      "Kota/Kabupaten:KOTA TASIKMALAYA, Tahun :2015, Total: 472.36 ton\n",
      "Kota/Kabupaten:KOTA BANJAR, Tahun :2015, Total: 130.21 ton\n",
      "Kota/Kabupaten:KABUPATEN BOGOR, Tahun :2016, Total: 1511.15 ton\n",
      "Kota/Kabupaten:KABUPATEN SUKABUMI, Tahun :2016, Total: 419.01 ton\n",
      "Kota/Kabupaten:KABUPATEN CIANJUR, Tahun :2016, Total: 981.41 ton\n",
      "Kota/Kabupaten:KABUPATEN BANDUNG, Tahun :2016, Total: 1895.94 ton\n",
      "Kota/Kabupaten:KABUPATEN GARUT, Tahun :2016, Total: 464.74 ton\n",
      "Kota/Kabupaten:KABUPATEN TASIKMALAYA, Tahun :2016, Total: 464.52 ton\n",
      "Kota/Kabupaten:KABUPATEN CIAMIS, Tahun :2016, Total: 260.91 ton\n",
      "Kota/Kabupaten:KABUPATEN KUNINGAN, Tahun :2016, Total: 251.7 ton\n",
      "Kota/Kabupaten:KABUPATEN CIREBON, Tahun :2016, Total: 465.75 ton\n",
      "Kota/Kabupaten:KABUPATEN MAJALENGKA, Tahun :2016, Total: 254.63 ton\n",
      "Kota/Kabupaten:KABUPATEN SUMEDANG, Tahun :2016, Total: 237.96 ton\n",
      "Kota/Kabupaten:KABUPATEN INDRAMAYU, Tahun :2016, Total: 613.18 ton\n",
      "Kota/Kabupaten:KABUPATEN SUBANG, Tahun :2016, Total: 487.26 ton\n",
      "Kota/Kabupaten:KABUPATEN PURWAKARTA, Tahun :2016, Total: 308.96 ton\n",
      "Kota/Kabupaten:KABUPATEN KARAWANG, Tahun :2016, Total: 869.86 ton\n",
      "Kota/Kabupaten:KABUPATEN BEKASI, Tahun :2016, Total: 1228.6 ton\n",
      "Kota/Kabupaten:KABUPATEN BANDUNG BARAT, Tahun :2016, Total: 616.08 ton\n",
      "Kota/Kabupaten:KABUPATEN PANGANDARAN, Tahun :2016, Total: 185.83 ton\n",
      "Kota/Kabupaten:KOTA BOGOR, Tahun :2016, Total: 991.93 ton\n",
      "Kota/Kabupaten:KOTA SUKABUMI, Tahun :2016, Total: 309.91 ton\n",
      "Kota/Kabupaten:KOTA BANDUNG, Tahun :2016, Total: 2448.63 ton\n",
      "Kota/Kabupaten:KOTA CIREBON, Tahun :2016, Total: 304.15 ton\n",
      "Kota/Kabupaten:KOTA BEKASI, Tahun :2016, Total: 2387.08 ton\n",
      "Kota/Kabupaten:KOTA DEPOK, Tahun :2016, Total: 1844.3 ton\n",
      "Kota/Kabupaten:KOTA CIMAHI, Tahun :2016, Total: 563.21 ton\n",
      "Kota/Kabupaten:KOTA TASIKMALAYA, Tahun :2016, Total: 472.36 ton\n",
      "Kota/Kabupaten:KOTA BANJAR, Tahun :2016, Total: 130.21 ton\n",
      "Kota/Kabupaten:KABUPATEN BOGOR, Tahun :2017, Total: 1511.15 ton\n",
      "Kota/Kabupaten:KABUPATEN SUKABUMI, Tahun :2017, Total: 419.01 ton\n",
      "Kota/Kabupaten:KABUPATEN CIANJUR, Tahun :2017, Total: 981.41 ton\n",
      "Kota/Kabupaten:KABUPATEN BANDUNG, Tahun :2017, Total: 1895.94 ton\n",
      "Kota/Kabupaten:KABUPATEN GARUT, Tahun :2017, Total: 464.74 ton\n",
      "Kota/Kabupaten:KABUPATEN TASIKMALAYA, Tahun :2017, Total: 464.52 ton\n",
      "Kota/Kabupaten:KABUPATEN CIAMIS, Tahun :2017, Total: 260.91 ton\n",
      "Kota/Kabupaten:KABUPATEN KUNINGAN, Tahun :2017, Total: 251.7 ton\n",
      "Kota/Kabupaten:KABUPATEN CIREBON, Tahun :2017, Total: 465.75 ton\n",
      "Kota/Kabupaten:KABUPATEN MAJALENGKA, Tahun :2017, Total: 254.63 ton\n",
      "Kota/Kabupaten:KABUPATEN SUMEDANG, Tahun :2017, Total: 237.96 ton\n",
      "Kota/Kabupaten:KABUPATEN INDRAMAYU, Tahun :2017, Total: 613.18 ton\n",
      "Kota/Kabupaten:KABUPATEN SUBANG, Tahun :2017, Total: 487.26 ton\n",
      "Kota/Kabupaten:KABUPATEN PURWAKARTA, Tahun :2017, Total: 308.96 ton\n",
      "Kota/Kabupaten:KABUPATEN KARAWANG, Tahun :2017, Total: 869.86 ton\n",
      "Kota/Kabupaten:KABUPATEN BEKASI, Tahun :2017, Total: 1228.6 ton\n",
      "Kota/Kabupaten:KABUPATEN BANDUNG BARAT, Tahun :2017, Total: 616.08 ton\n",
      "Kota/Kabupaten:KABUPATEN PANGANDARAN, Tahun :2017, Total: 185.83 ton\n",
      "Kota/Kabupaten:KOTA BOGOR, Tahun :2017, Total: 991.93 ton\n",
      "Kota/Kabupaten:KOTA SUKABUMI, Tahun :2017, Total: 309.91 ton\n",
      "Kota/Kabupaten:KOTA BANDUNG, Tahun :2017, Total: 2448.63 ton\n",
      "Kota/Kabupaten:KOTA CIREBON, Tahun :2017, Total: 304.15 ton\n",
      "Kota/Kabupaten:KOTA BEKASI, Tahun :2017, Total: 2387.08 ton\n",
      "Kota/Kabupaten:KOTA DEPOK, Tahun :2017, Total: 1844.3 ton\n",
      "Kota/Kabupaten:KOTA CIMAHI, Tahun :2017, Total: 563.21 ton\n",
      "Kota/Kabupaten:KOTA TASIKMALAYA, Tahun :2017, Total: 472.36 ton\n",
      "Kota/Kabupaten:KOTA BANJAR, Tahun :2017, Total: 130.21 ton\n",
      "Kota/Kabupaten:KABUPATEN BOGOR, Tahun :2018, Total: 1716.8 ton\n",
      "Kota/Kabupaten:KABUPATEN SUKABUMI, Tahun :2018, Total: 415.5 ton\n",
      "Kota/Kabupaten:KABUPATEN CIANJUR, Tahun :2018, Total: 965.19 ton\n",
      "Kota/Kabupaten:KABUPATEN BANDUNG, Tahun :2018, Total: 2068.06 ton\n",
      "Kota/Kabupaten:KABUPATEN GARUT, Tahun :2018, Total: 473.89 ton\n",
      "Kota/Kabupaten:KABUPATEN TASIKMALAYA, Tahun :2018, Total: 458.45 ton\n",
      "Kota/Kabupaten:KABUPATEN CIAMIS, Tahun :2018, Total: 263.01 ton\n",
      "Kota/Kabupaten:KABUPATEN KUNINGAN, Tahun :2018, Total: 248.52 ton\n",
      "Kota/Kabupaten:KABUPATEN CIREBON, Tahun :2018, Total: 466.25 ton\n",
      "Kota/Kabupaten:KABUPATEN MAJALENGKA, Tahun :2018, Total: 249.26 ton\n",
      "Kota/Kabupaten:KABUPATEN SUMEDANG, Tahun :2018, Total: 236.12 ton\n",
      "Kota/Kabupaten:KABUPATEN INDRAMAYU, Tahun :2018, Total: 603.11 ton\n",
      "Kota/Kabupaten:KABUPATEN SUBANG, Tahun :2018, Total: 498.7 ton\n",
      "Kota/Kabupaten:KABUPATEN PURWAKARTA, Tahun :2018, Total: 323.87 ton\n",
      "Kota/Kabupaten:KABUPATEN KARAWANG, Tahun :2018, Total: 896.85 ton\n",
      "Kota/Kabupaten:KABUPATEN BEKASI, Tahun :2018, Total: 1600.71 ton\n",
      "Kota/Kabupaten:KABUPATEN BANDUNG BARAT, Tahun :2018, Total: 663.54 ton\n",
      "Kota/Kabupaten:KABUPATEN PANGANDARAN, Tahun :2018, Total: 171.21 ton\n",
      "Kota/Kabupaten:KOTA BOGOR, Tahun :2018, Total: 1069.41 ton\n",
      "Kota/Kabupaten:KOTA SUKABUMI, Tahun :2018, Total: 318.12 ton\n",
      "Kota/Kabupaten:KOTA BANDUNG, Tahun :2018, Total: 2441.12 ton\n",
      "Kota/Kabupaten:KOTA CIREBON, Tahun :2018, Total: 308.37 ton\n",
      "Kota/Kabupaten:KOTA BEKASI, Tahun :2018, Total: 2858.6 ton\n",
      "Kota/Kabupaten:KOTA DEPOK, Tahun :2018, Total: 2272.07 ton\n",
      "Kota/Kabupaten:KOTA CIMAHI, Tahun :2018, Total: 592.62 ton\n",
      "Kota/Kabupaten:KOTA TASIKMALAYA, Tahun :2018, Total: 465.23 ton\n",
      "Kota/Kabupaten:KOTA BANJAR, Tahun :2018, Total: 128.34 ton\n",
      "Kota/Kabupaten:KABUPATEN BOGOR, Tahun :2019, Total: 2914.65 ton\n",
      "Kota/Kabupaten:KABUPATEN SUKABUMI, Tahun :2019, Total: 1003.64 ton\n",
      "Kota/Kabupaten:KABUPATEN CIANJUR, Tahun :2019, Total: 1115.81 ton\n",
      "Kota/Kabupaten:KABUPATEN BANDUNG, Tahun :2019, Total: 1334.12 ton\n",
      "Kota/Kabupaten:KABUPATEN GARUT, Tahun :2019, Total: 1144.01 ton\n",
      "Kota/Kabupaten:KABUPATEN TASIKMALAYA, Tahun :2019, Total: 753.06 ton\n",
      "Kota/Kabupaten:KABUPATEN CIAMIS, Tahun :2019, Total: 560.57 ton\n",
      "Kota/Kabupaten:KABUPATEN KUNINGAN, Tahun :2019, Total: 537.25 ton\n",
      "Kota/Kabupaten:KABUPATEN CIREBON, Tahun :2019, Total: 3.15 ton\n",
      "Kota/Kabupaten:KABUPATEN MAJALENGKA, Tahun :2019, Total: 515.7 ton\n",
      "Kota/Kabupaten:KABUPATEN SUMEDANG, Tahun :2019, Total: 436.96 ton\n",
      "Kota/Kabupaten:KABUPATEN INDRAMAYU, Tahun :2019, Total: 1071.05 ton\n",
      "Kota/Kabupaten:KABUPATEN SUBANG, Tahun :2019, Total: 1012.45 ton\n",
      "Kota/Kabupaten:KABUPATEN PURWAKARTA, Tahun :2019, Total: 384.43 ton\n",
      "Kota/Kabupaten:KABUPATEN KARAWANG, Tahun :2019, Total: 934.4 ton\n",
      "Kota/Kabupaten:KABUPATEN BEKASI, Tahun :2019, Total: 2590.0 ton\n",
      "Kota/Kabupaten:KABUPATEN BANDUNG BARAT, Tahun :2019, Total: 1124.5 ton\n",
      "Kota/Kabupaten:KABUPATEN PANGANDARAN, Tahun :2019, Total: 250.23 ton\n",
      "Kota/Kabupaten:KOTA BOGOR, Tahun :2019, Total: 620.55 ton\n",
      "Kota/Kabupaten:KOTA SUKABUMI, Tahun :2019, Total: 172.82 ton\n",
      "Kota/Kabupaten:KOTA BANDUNG, Tahun :2019, Total: 1575.73 ton\n",
      "Kota/Kabupaten:KOTA CIREBON, Tahun :2019, Total: 245.0 ton\n",
      "Kota/Kabupaten:KOTA BEKASI, Tahun :2019, Total: 2060.7 ton\n",
      "Kota/Kabupaten:KOTA DEPOK, Tahun :2019, Total: 1469.77 ton\n",
      "Kota/Kabupaten:KOTA CIMAHI, Tahun :2019, Total: 267.74 ton\n",
      "Kota/Kabupaten:KOTA TASIKMALAYA, Tahun :2019, Total: 291.6 ton\n",
      "Kota/Kabupaten:KOTA BANJAR, Tahun :2019, Total: 100.67 ton\n",
      "Kota/Kabupaten:KABUPATEN BOGOR, Tahun :2020, Total: 2977.0 ton\n",
      "Kota/Kabupaten:KABUPATEN SUKABUMI, Tahun :2020, Total: 1006.0 ton\n",
      "Kota/Kabupaten:KABUPATEN CIANJUR, Tahun :2020, Total: 1117.0 ton\n",
      "Kota/Kabupaten:KABUPATEN BANDUNG, Tahun :2020, Total: 1355.0 ton\n",
      "Kota/Kabupaten:KABUPATEN GARUT, Tahun :2020, Total: 1151.0 ton\n",
      "Kota/Kabupaten:KABUPATEN TASIKMALAYA, Tahun :2020, Total: 754.0 ton\n",
      "Kota/Kabupaten:KABUPATEN CIAMIS, Tahun :2020, Total: 564.0 ton\n",
      "Kota/Kabupaten:KABUPATEN KUNINGAN, Tahun :2020, Total: 540.0 ton\n",
      "Kota/Kabupaten:KABUPATEN CIREBON, Tahun :2020, Total: 1096.0 ton\n",
      "Kota/Kabupaten:KABUPATEN MAJALENGKA, Tahun :2020, Total: 518.0 ton\n",
      "Kota/Kabupaten:KABUPATEN SUMEDANG, Tahun :2020, Total: 438.0 ton\n",
      "Kota/Kabupaten:KABUPATEN INDRAMAYU, Tahun :2020, Total: 1077.0 ton\n",
      "Kota/Kabupaten:KABUPATEN SUBANG, Tahun :2020, Total: 1023.0 ton\n",
      "Kota/Kabupaten:KABUPATEN PURWAKARTA, Tahun :2020, Total: 388.0 ton\n",
      "Kota/Kabupaten:KABUPATEN KARAWANG, Tahun :2020, Total: 942.0 ton\n",
      "Kota/Kabupaten:KABUPATEN BEKASI, Tahun :2020, Total: 2258.0 ton\n",
      "Kota/Kabupaten:KABUPATEN BANDUNG BARAT, Tahun :2020, Total: 1135.0 ton\n",
      "Kota/Kabupaten:KABUPATEN PANGANDARAN, Tahun :2020, Total: 252.0 ton\n",
      "Kota/Kabupaten:KOTA BOGOR, Tahun :2020, Total: 567.0 ton\n",
      "Kota/Kabupaten:KOTA SUKABUMI, Tahun :2020, Total: 181.0 ton\n",
      "Kota/Kabupaten:KOTA BANDUNG, Tahun :2020, Total: 1630.0 ton\n",
      "Kota/Kabupaten:KOTA CIREBON, Tahun :2020, Total: 192.0 ton\n",
      "Kota/Kabupaten:KOTA BEKASI, Tahun :2020, Total: 1923.0 ton\n",
      "Kota/Kabupaten:KOTA DEPOK, Tahun :2020, Total: 1516.0 ton\n",
      "Kota/Kabupaten:KOTA CIMAHI, Tahun :2020, Total: 369.0 ton\n",
      "Kota/Kabupaten:KOTA TASIKMALAYA, Tahun :2020, Total: 285.0 ton\n",
      "Kota/Kabupaten:KOTA BANJAR, Tahun :2020, Total: 79.0 ton\n",
      "Kota/Kabupaten:KABUPATEN BOGOR, Tahun :2021, Total: 971.59 ton\n",
      "Kota/Kabupaten:KABUPATEN SUKABUMI, Tahun :2021, Total: 356.02 ton\n",
      "Kota/Kabupaten:KABUPATEN CIANJUR, Tahun :2021, Total: 355.69 ton\n",
      "Kota/Kabupaten:KABUPATEN BANDUNG, Tahun :2021, Total: 1489.04 ton\n",
      "Kota/Kabupaten:KABUPATEN GARUT, Tahun :2021, Total: 321.17 ton\n",
      "Kota/Kabupaten:KABUPATEN TASIKMALAYA, Tahun :2021, Total: 172.26 ton\n",
      "Kota/Kabupaten:KABUPATEN CIAMIS, Tahun :2021, Total: 159.41 ton\n",
      "Kota/Kabupaten:KABUPATEN KUNINGAN, Tahun :2021, Total: 405.76 ton\n",
      "Kota/Kabupaten:KABUPATEN CIREBON, Tahun :2021, Total: 242.52 ton\n",
      "Kota/Kabupaten:KABUPATEN MAJALENGKA, Tahun :2021, Total: 546.54 ton\n",
      "Kota/Kabupaten:KABUPATEN SUMEDANG, Tahun :2021, Total: 707.75 ton\n",
      "Kota/Kabupaten:KABUPATEN INDRAMAYU, Tahun :2021, Total: 792.48 ton\n",
      "Kota/Kabupaten:KABUPATEN SUBANG, Tahun :2021, Total: 739.6 ton\n",
      "Kota/Kabupaten:KABUPATEN PURWAKARTA, Tahun :2021, Total: 239.72 ton\n",
      "Kota/Kabupaten:KABUPATEN KARAWANG, Tahun :2021, Total: 614.61 ton\n",
      "Kota/Kabupaten:KABUPATEN BEKASI, Tahun :2021, Total: 1193.76 ton\n",
      "Kota/Kabupaten:KABUPATEN BANDUNG BARAT, Tahun :2021, Total: 201.09 ton\n",
      "Kota/Kabupaten:KABUPATEN PANGANDARAN, Tahun :2021, Total: 46.62 ton\n",
      "Kota/Kabupaten:KOTA BOGOR, Tahun :2021, Total: 719.72 ton\n",
      "Kota/Kabupaten:KOTA SUKABUMI, Tahun :2021, Total: 232.06 ton\n",
      "Kota/Kabupaten:KOTA BANDUNG, Tahun :2021, Total: 1529.04 ton\n",
      "Kota/Kabupaten:KOTA CIREBON, Tahun :2021, Total: 229.75 ton\n",
      "Kota/Kabupaten:KOTA BEKASI, Tahun :2021, Total: 1500.77 ton\n",
      "Kota/Kabupaten:KOTA DEPOK, Tahun :2021, Total: 1418.87 ton\n",
      "Kota/Kabupaten:KOTA CIMAHI, Tahun :2021, Total: 193.36 ton\n",
      "Kota/Kabupaten:KOTA TASIKMALAYA, Tahun :2021, Total: 295.87 ton\n",
      "Kota/Kabupaten:KOTA BANJAR, Tahun :2021, Total: 60.29 ton\n",
      "Kota/Kabupaten:KABUPATEN BOGOR, Tahun :2022, Total: nan ton\n",
      "Kota/Kabupaten:KABUPATEN SUKABUMI, Tahun :2022, Total: nan ton\n",
      "Kota/Kabupaten:KABUPATEN CIANJUR, Tahun :2022, Total: nan ton\n",
      "Kota/Kabupaten:KABUPATEN BANDUNG, Tahun :2022, Total: nan ton\n",
      "Kota/Kabupaten:KABUPATEN GARUT, Tahun :2022, Total: nan ton\n",
      "Kota/Kabupaten:KABUPATEN TASIKMALAYA, Tahun :2022, Total: nan ton\n",
      "Kota/Kabupaten:KABUPATEN CIAMIS, Tahun :2022, Total: nan ton\n",
      "Kota/Kabupaten:KABUPATEN KUNINGAN, Tahun :2022, Total: nan ton\n",
      "Kota/Kabupaten:KABUPATEN CIREBON, Tahun :2022, Total: nan ton\n",
      "Kota/Kabupaten:KABUPATEN MAJALENGKA, Tahun :2022, Total: nan ton\n",
      "Kota/Kabupaten:KABUPATEN SUMEDANG, Tahun :2022, Total: nan ton\n",
      "Kota/Kabupaten:KABUPATEN INDRAMAYU, Tahun :2022, Total: nan ton\n",
      "Kota/Kabupaten:KABUPATEN SUBANG, Tahun :2022, Total: nan ton\n",
      "Kota/Kabupaten:KABUPATEN PURWAKARTA, Tahun :2022, Total: nan ton\n",
      "Kota/Kabupaten:KABUPATEN KARAWANG, Tahun :2022, Total: nan ton\n",
      "Kota/Kabupaten:KABUPATEN BEKASI, Tahun :2022, Total: nan ton\n",
      "Kota/Kabupaten:KABUPATEN BANDUNG BARAT, Tahun :2022, Total: nan ton\n",
      "Kota/Kabupaten:KABUPATEN PANGANDARAN, Tahun :2022, Total: nan ton\n",
      "Kota/Kabupaten:KOTA BOGOR, Tahun :2022, Total: nan ton\n",
      "Kota/Kabupaten:KOTA SUKABUMI, Tahun :2022, Total: nan ton\n",
      "Kota/Kabupaten:KOTA BANDUNG, Tahun :2022, Total: nan ton\n",
      "Kota/Kabupaten:KOTA CIREBON, Tahun :2022, Total: nan ton\n",
      "Kota/Kabupaten:KOTA BEKASI, Tahun :2022, Total: nan ton\n",
      "Kota/Kabupaten:KOTA DEPOK, Tahun :2022, Total: nan ton\n",
      "Kota/Kabupaten:KOTA CIMAHI, Tahun :2022, Total: nan ton\n",
      "Kota/Kabupaten:KOTA TASIKMALAYA, Tahun :2022, Total: nan ton\n",
      "Kota/Kabupaten:KOTA BANJAR, Tahun :2022, Total: nan ton\n",
      "Kota/Kabupaten:KABUPATEN BOGOR, Tahun :2023, Total: nan ton\n",
      "Kota/Kabupaten:KABUPATEN SUKABUMI, Tahun :2023, Total: nan ton\n",
      "Kota/Kabupaten:KABUPATEN CIANJUR, Tahun :2023, Total: nan ton\n",
      "Kota/Kabupaten:KABUPATEN BANDUNG, Tahun :2023, Total: nan ton\n",
      "Kota/Kabupaten:KABUPATEN GARUT, Tahun :2023, Total: nan ton\n",
      "Kota/Kabupaten:KABUPATEN TASIKMALAYA, Tahun :2023, Total: nan ton\n",
      "Kota/Kabupaten:KABUPATEN CIAMIS, Tahun :2023, Total: nan ton\n",
      "Kota/Kabupaten:KABUPATEN KUNINGAN, Tahun :2023, Total: nan ton\n",
      "Kota/Kabupaten:KABUPATEN CIREBON, Tahun :2023, Total: nan ton\n",
      "Kota/Kabupaten:KABUPATEN MAJALENGKA, Tahun :2023, Total: nan ton\n",
      "Kota/Kabupaten:KABUPATEN SUMEDANG, Tahun :2023, Total: nan ton\n",
      "Kota/Kabupaten:KABUPATEN INDRAMAYU, Tahun :2023, Total: nan ton\n",
      "Kota/Kabupaten:KABUPATEN SUBANG, Tahun :2023, Total: nan ton\n",
      "Kota/Kabupaten:KABUPATEN PURWAKARTA, Tahun :2023, Total: nan ton\n",
      "Kota/Kabupaten:KABUPATEN KARAWANG, Tahun :2023, Total: nan ton\n",
      "Kota/Kabupaten:KABUPATEN BEKASI, Tahun :2023, Total: nan ton\n",
      "Kota/Kabupaten:KABUPATEN BANDUNG BARAT, Tahun :2023, Total: nan ton\n",
      "Kota/Kabupaten:KABUPATEN PANGANDARAN, Tahun :2023, Total: nan ton\n",
      "Kota/Kabupaten:KOTA BOGOR, Tahun :2023, Total: nan ton\n",
      "Kota/Kabupaten:KOTA SUKABUMI, Tahun :2023, Total: nan ton\n",
      "Kota/Kabupaten:KOTA BANDUNG, Tahun :2023, Total: nan ton\n",
      "Kota/Kabupaten:KOTA CIREBON, Tahun :2023, Total: nan ton\n",
      "Kota/Kabupaten:KOTA BEKASI, Tahun :2023, Total: nan ton\n",
      "Kota/Kabupaten:KOTA DEPOK, Tahun :2023, Total: nan ton\n",
      "Kota/Kabupaten:KOTA CIMAHI, Tahun :2023, Total: nan ton\n",
      "Kota/Kabupaten:KOTA TASIKMALAYA, Tahun :2023, Total: nan ton\n",
      "Kota/Kabupaten:KOTA BANJAR, Tahun :2023, Total: nan ton\n"
     ]
    }
   ],
   "source": [
    "total_sampah_per_kota_tahun = {}\n",
    "\n",
    "for a, row in data_sampah_kota_bandung.iterrows():\n",
    "    kota = row['nama_kabupaten_kota']\n",
    "    tahun = row['tahun']\n",
    "    sampah = row['jumlah_produksi_sampah']\n",
    "\n",
    "    b = (kota, tahun)\n",
    "    if b in total_sampah_per_kota_tahun:\n",
    "        total_sampah_per_kota_tahun[b] += sampah\n",
    "    else:\n",
    "        total_sampah_per_kota_tahun[b] = sampah\n",
    "print(\"Total Produksi Sampah per Kota/Kabupaten per Tahun:\")\n",
    "for (kota, tahun), total in total_sampah_per_kota_tahun.items():\n",
    "    print(f\"Kota/Kabupaten:{kota}, Tahun :{tahun}, Total: {total} ton\")\n",
    "\n",
    "# data_sampah_kota_bandung.to_excel('Data_Sampah_Final.xlsx', index=False)\n",
    "data_sampah_kota_bandung.to_csv('Data_Sampah_Final.csv', index=False)"
   ]
  }
 ],
 "metadata": {
  "kernelspec": {
   "display_name": "Python 3",
   "language": "python",
   "name": "python3"
  },
  "language_info": {
   "codemirror_mode": {
    "name": "ipython",
    "version": 3
   },
   "file_extension": ".py",
   "mimetype": "text/x-python",
   "name": "python",
   "nbconvert_exporter": "python",
   "pygments_lexer": "ipython3",
   "version": "3.12.6"
  }
 },
 "nbformat": 4,
 "nbformat_minor": 2
}
